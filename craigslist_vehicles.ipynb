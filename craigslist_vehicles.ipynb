{
 "cells": [
  {
   "cell_type": "code",
   "execution_count": 1,
   "id": "f7fcd3bd-1905-4714-8779-9dd0c2147ed0",
   "metadata": {},
   "outputs": [],
   "source": [
    "import pandas as pd\n",
    "import numpy as np\n",
    "import matplotlib.pyplot as plt"
   ]
  },
  {
   "cell_type": "code",
   "execution_count": 2,
   "id": "ba644f64-4467-4e26-a034-8557d8bd6697",
   "metadata": {},
   "outputs": [
    {
     "data": {
      "text/html": [
       "<div>\n",
       "<style scoped>\n",
       "    .dataframe tbody tr th:only-of-type {\n",
       "        vertical-align: middle;\n",
       "    }\n",
       "\n",
       "    .dataframe tbody tr th {\n",
       "        vertical-align: top;\n",
       "    }\n",
       "\n",
       "    .dataframe thead th {\n",
       "        text-align: right;\n",
       "    }\n",
       "</style>\n",
       "<table border=\"1\" class=\"dataframe\">\n",
       "  <thead>\n",
       "    <tr style=\"text-align: right;\">\n",
       "      <th></th>\n",
       "      <th>Unnamed: 0</th>\n",
       "      <th>id</th>\n",
       "      <th>url</th>\n",
       "      <th>region</th>\n",
       "      <th>region_url</th>\n",
       "      <th>price</th>\n",
       "      <th>year</th>\n",
       "      <th>manufacturer</th>\n",
       "      <th>model</th>\n",
       "      <th>condition</th>\n",
       "      <th>...</th>\n",
       "      <th>type</th>\n",
       "      <th>paint_color</th>\n",
       "      <th>image_url</th>\n",
       "      <th>description</th>\n",
       "      <th>county</th>\n",
       "      <th>state</th>\n",
       "      <th>lat</th>\n",
       "      <th>long</th>\n",
       "      <th>posting_date</th>\n",
       "      <th>removal_date</th>\n",
       "    </tr>\n",
       "  </thead>\n",
       "  <tbody>\n",
       "    <tr>\n",
       "      <th>0</th>\n",
       "      <td>362773</td>\n",
       "      <td>7307679724</td>\n",
       "      <td>https://abilene.craigslist.org/ctd/d/abilene-2...</td>\n",
       "      <td>abilene</td>\n",
       "      <td>https://abilene.craigslist.org</td>\n",
       "      <td>4500</td>\n",
       "      <td>2002.0</td>\n",
       "      <td>bmw</td>\n",
       "      <td>x5</td>\n",
       "      <td>NaN</td>\n",
       "      <td>...</td>\n",
       "      <td>NaN</td>\n",
       "      <td>NaN</td>\n",
       "      <td>https://images.craigslist.org/00m0m_iba78h8ty9...</td>\n",
       "      <td>$4,500 Cash  2002 BMW X5  8 cylinder 4.4L moto...</td>\n",
       "      <td>NaN</td>\n",
       "      <td>tx</td>\n",
       "      <td>32.401556</td>\n",
       "      <td>-99.884713</td>\n",
       "      <td>2021-04-16 00:00:00+00:00</td>\n",
       "      <td>2021-05-02 00:00:00+00:00</td>\n",
       "    </tr>\n",
       "    <tr>\n",
       "      <th>1</th>\n",
       "      <td>362712</td>\n",
       "      <td>7311833696</td>\n",
       "      <td>https://abilene.craigslist.org/ctd/d/abilene-2...</td>\n",
       "      <td>abilene</td>\n",
       "      <td>https://abilene.craigslist.org</td>\n",
       "      <td>4500</td>\n",
       "      <td>2002.0</td>\n",
       "      <td>bmw</td>\n",
       "      <td>x5</td>\n",
       "      <td>NaN</td>\n",
       "      <td>...</td>\n",
       "      <td>NaN</td>\n",
       "      <td>NaN</td>\n",
       "      <td>https://images.craigslist.org/00m0m_iba78h8ty9...</td>\n",
       "      <td>$4,500 Cash  2002 BMW X5  8 cylinder 4.4L moto...</td>\n",
       "      <td>NaN</td>\n",
       "      <td>tx</td>\n",
       "      <td>32.401556</td>\n",
       "      <td>-99.884713</td>\n",
       "      <td>2021-04-24 00:00:00+00:00</td>\n",
       "      <td>2021-04-28 00:00:00+00:00</td>\n",
       "    </tr>\n",
       "    <tr>\n",
       "      <th>2</th>\n",
       "      <td>362722</td>\n",
       "      <td>7311441996</td>\n",
       "      <td>https://abilene.craigslist.org/ctd/d/abilene-2...</td>\n",
       "      <td>abilene</td>\n",
       "      <td>https://abilene.craigslist.org</td>\n",
       "      <td>4900</td>\n",
       "      <td>2006.0</td>\n",
       "      <td>toyota</td>\n",
       "      <td>camry</td>\n",
       "      <td>excellent</td>\n",
       "      <td>...</td>\n",
       "      <td>sedan</td>\n",
       "      <td>silver</td>\n",
       "      <td>https://images.craigslist.org/00808_5FkOw2aGjA...</td>\n",
       "      <td>2006 TOYOTA CAMRY LE Sedan   Ready To Upgrade ...</td>\n",
       "      <td>NaN</td>\n",
       "      <td>tx</td>\n",
       "      <td>32.453848</td>\n",
       "      <td>-99.787900</td>\n",
       "      <td>2021-04-23 00:00:00+00:00</td>\n",
       "      <td>2021-05-25 00:00:00+00:00</td>\n",
       "    </tr>\n",
       "    <tr>\n",
       "      <th>3</th>\n",
       "      <td>362771</td>\n",
       "      <td>7307680715</td>\n",
       "      <td>https://abilene.craigslist.org/ctd/d/abilene-2...</td>\n",
       "      <td>abilene</td>\n",
       "      <td>https://abilene.craigslist.org</td>\n",
       "      <td>6500</td>\n",
       "      <td>2008.0</td>\n",
       "      <td>ford</td>\n",
       "      <td>expedition</td>\n",
       "      <td>NaN</td>\n",
       "      <td>...</td>\n",
       "      <td>NaN</td>\n",
       "      <td>NaN</td>\n",
       "      <td>https://images.craigslist.org/00M0M_i9CoFvVq8o...</td>\n",
       "      <td>$6500.00 2008 Ford Expedition  8 cylinder 5.4L...</td>\n",
       "      <td>NaN</td>\n",
       "      <td>tx</td>\n",
       "      <td>32.401556</td>\n",
       "      <td>-99.884713</td>\n",
       "      <td>2021-04-16 00:00:00+00:00</td>\n",
       "      <td>2021-04-26 00:00:00+00:00</td>\n",
       "    </tr>\n",
       "    <tr>\n",
       "      <th>4</th>\n",
       "      <td>362710</td>\n",
       "      <td>7311834578</td>\n",
       "      <td>https://abilene.craigslist.org/ctd/d/abilene-2...</td>\n",
       "      <td>abilene</td>\n",
       "      <td>https://abilene.craigslist.org</td>\n",
       "      <td>6500</td>\n",
       "      <td>2008.0</td>\n",
       "      <td>ford</td>\n",
       "      <td>expedition</td>\n",
       "      <td>NaN</td>\n",
       "      <td>...</td>\n",
       "      <td>NaN</td>\n",
       "      <td>NaN</td>\n",
       "      <td>https://images.craigslist.org/00M0M_i9CoFvVq8o...</td>\n",
       "      <td>$6500.00 2008 Ford Expedition  8 cylinder 5.4L...</td>\n",
       "      <td>NaN</td>\n",
       "      <td>tx</td>\n",
       "      <td>32.401556</td>\n",
       "      <td>-99.884713</td>\n",
       "      <td>2021-04-24 00:00:00+00:00</td>\n",
       "      <td>2021-05-12 00:00:00+00:00</td>\n",
       "    </tr>\n",
       "    <tr>\n",
       "      <th>...</th>\n",
       "      <td>...</td>\n",
       "      <td>...</td>\n",
       "      <td>...</td>\n",
       "      <td>...</td>\n",
       "      <td>...</td>\n",
       "      <td>...</td>\n",
       "      <td>...</td>\n",
       "      <td>...</td>\n",
       "      <td>...</td>\n",
       "      <td>...</td>\n",
       "      <td>...</td>\n",
       "      <td>...</td>\n",
       "      <td>...</td>\n",
       "      <td>...</td>\n",
       "      <td>...</td>\n",
       "      <td>...</td>\n",
       "      <td>...</td>\n",
       "      <td>...</td>\n",
       "      <td>...</td>\n",
       "      <td>...</td>\n",
       "      <td>...</td>\n",
       "    </tr>\n",
       "    <tr>\n",
       "      <th>426875</th>\n",
       "      <td>303849</td>\n",
       "      <td>7307070484</td>\n",
       "      <td>https://zanesville.craigslist.org/cto/d/zanesv...</td>\n",
       "      <td>zanesville / cambridge</td>\n",
       "      <td>https://zanesville.craigslist.org</td>\n",
       "      <td>5100</td>\n",
       "      <td>2009.0</td>\n",
       "      <td>NaN</td>\n",
       "      <td>saab 9-7x</td>\n",
       "      <td>fair</td>\n",
       "      <td>...</td>\n",
       "      <td>SUV</td>\n",
       "      <td>grey</td>\n",
       "      <td>https://images.craigslist.org/00b0b_dsIhheG86S...</td>\n",
       "      <td>For sale: 2009 Saab 9-7x Fair condition  AWD  ...</td>\n",
       "      <td>NaN</td>\n",
       "      <td>oh</td>\n",
       "      <td>39.937000</td>\n",
       "      <td>-82.031500</td>\n",
       "      <td>2021-04-15 00:00:00+00:00</td>\n",
       "      <td>2021-04-21 00:00:00+00:00</td>\n",
       "    </tr>\n",
       "    <tr>\n",
       "      <th>426876</th>\n",
       "      <td>303706</td>\n",
       "      <td>7314635557</td>\n",
       "      <td>https://zanesville.craigslist.org/cto/d/zanesv...</td>\n",
       "      <td>zanesville / cambridge</td>\n",
       "      <td>https://zanesville.craigslist.org</td>\n",
       "      <td>7500</td>\n",
       "      <td>2011.0</td>\n",
       "      <td>ford</td>\n",
       "      <td>f-450</td>\n",
       "      <td>good</td>\n",
       "      <td>...</td>\n",
       "      <td>bus</td>\n",
       "      <td>red</td>\n",
       "      <td>https://images.craigslist.org/00b0b_8lBfNkZ6pr...</td>\n",
       "      <td>2011 E-Ford 450 with 177k miles, 6.8 liter v-1...</td>\n",
       "      <td>NaN</td>\n",
       "      <td>oh</td>\n",
       "      <td>39.927400</td>\n",
       "      <td>-82.004100</td>\n",
       "      <td>2021-04-30 00:00:00+00:00</td>\n",
       "      <td>2021-05-15 00:00:00+00:00</td>\n",
       "    </tr>\n",
       "    <tr>\n",
       "      <th>426877</th>\n",
       "      <td>303704</td>\n",
       "      <td>7314710341</td>\n",
       "      <td>https://zanesville.craigslist.org/cto/d/zanesv...</td>\n",
       "      <td>zanesville / cambridge</td>\n",
       "      <td>https://zanesville.craigslist.org</td>\n",
       "      <td>25000</td>\n",
       "      <td>2016.0</td>\n",
       "      <td>chevrolet</td>\n",
       "      <td>silverado</td>\n",
       "      <td>excellent</td>\n",
       "      <td>...</td>\n",
       "      <td>truck</td>\n",
       "      <td>blue</td>\n",
       "      <td>https://images.craigslist.org/00k0k_jw0Pda6LTk...</td>\n",
       "      <td>2013 Silverado excellent condition. Blue in co...</td>\n",
       "      <td>NaN</td>\n",
       "      <td>oh</td>\n",
       "      <td>39.896865</td>\n",
       "      <td>-82.042283</td>\n",
       "      <td>2021-04-30 00:00:00+00:00</td>\n",
       "      <td>2021-05-12 00:00:00+00:00</td>\n",
       "    </tr>\n",
       "    <tr>\n",
       "      <th>426878</th>\n",
       "      <td>303670</td>\n",
       "      <td>7316225330</td>\n",
       "      <td>https://zanesville.craigslist.org/cto/d/zanesv...</td>\n",
       "      <td>zanesville / cambridge</td>\n",
       "      <td>https://zanesville.craigslist.org</td>\n",
       "      <td>6</td>\n",
       "      <td>1986.0</td>\n",
       "      <td>NaN</td>\n",
       "      <td>camaro iroc z28</td>\n",
       "      <td>good</td>\n",
       "      <td>...</td>\n",
       "      <td>NaN</td>\n",
       "      <td>red</td>\n",
       "      <td>https://images.craigslist.org/00Y0Y_avlrYDn7OY...</td>\n",
       "      <td>1986 Iroc Z28 , T-tops , 86,500 miles , has ne...</td>\n",
       "      <td>NaN</td>\n",
       "      <td>oh</td>\n",
       "      <td>39.938630</td>\n",
       "      <td>-82.006760</td>\n",
       "      <td>2021-05-03 00:00:00+00:00</td>\n",
       "      <td>2021-05-08 00:00:00+00:00</td>\n",
       "    </tr>\n",
       "    <tr>\n",
       "      <th>426879</th>\n",
       "      <td>303836</td>\n",
       "      <td>7308192431</td>\n",
       "      <td>https://zanesville.craigslist.org/cto/d/zanesv...</td>\n",
       "      <td>zanesville / cambridge</td>\n",
       "      <td>https://zanesville.craigslist.org</td>\n",
       "      <td>9795</td>\n",
       "      <td>1999.0</td>\n",
       "      <td>dodge</td>\n",
       "      <td>durango</td>\n",
       "      <td>like new</td>\n",
       "      <td>...</td>\n",
       "      <td>SUV</td>\n",
       "      <td>silver</td>\n",
       "      <td>https://images.craigslist.org/00J0J_fbgDQsCgfB...</td>\n",
       "      <td>FOR SALE LIKE NEW 1999 DODGE DURANGO, LOADED W...</td>\n",
       "      <td>NaN</td>\n",
       "      <td>oh</td>\n",
       "      <td>39.998337</td>\n",
       "      <td>-82.022885</td>\n",
       "      <td>2021-04-17 00:00:00+00:00</td>\n",
       "      <td>2021-05-09 00:00:00+00:00</td>\n",
       "    </tr>\n",
       "  </tbody>\n",
       "</table>\n",
       "<p>426880 rows × 28 columns</p>\n",
       "</div>"
      ],
      "text/plain": [
       "        Unnamed: 0          id  \\\n",
       "0           362773  7307679724   \n",
       "1           362712  7311833696   \n",
       "2           362722  7311441996   \n",
       "3           362771  7307680715   \n",
       "4           362710  7311834578   \n",
       "...            ...         ...   \n",
       "426875      303849  7307070484   \n",
       "426876      303706  7314635557   \n",
       "426877      303704  7314710341   \n",
       "426878      303670  7316225330   \n",
       "426879      303836  7308192431   \n",
       "\n",
       "                                                      url  \\\n",
       "0       https://abilene.craigslist.org/ctd/d/abilene-2...   \n",
       "1       https://abilene.craigslist.org/ctd/d/abilene-2...   \n",
       "2       https://abilene.craigslist.org/ctd/d/abilene-2...   \n",
       "3       https://abilene.craigslist.org/ctd/d/abilene-2...   \n",
       "4       https://abilene.craigslist.org/ctd/d/abilene-2...   \n",
       "...                                                   ...   \n",
       "426875  https://zanesville.craigslist.org/cto/d/zanesv...   \n",
       "426876  https://zanesville.craigslist.org/cto/d/zanesv...   \n",
       "426877  https://zanesville.craigslist.org/cto/d/zanesv...   \n",
       "426878  https://zanesville.craigslist.org/cto/d/zanesv...   \n",
       "426879  https://zanesville.craigslist.org/cto/d/zanesv...   \n",
       "\n",
       "                        region                         region_url  price  \\\n",
       "0                      abilene     https://abilene.craigslist.org   4500   \n",
       "1                      abilene     https://abilene.craigslist.org   4500   \n",
       "2                      abilene     https://abilene.craigslist.org   4900   \n",
       "3                      abilene     https://abilene.craigslist.org   6500   \n",
       "4                      abilene     https://abilene.craigslist.org   6500   \n",
       "...                        ...                                ...    ...   \n",
       "426875  zanesville / cambridge  https://zanesville.craigslist.org   5100   \n",
       "426876  zanesville / cambridge  https://zanesville.craigslist.org   7500   \n",
       "426877  zanesville / cambridge  https://zanesville.craigslist.org  25000   \n",
       "426878  zanesville / cambridge  https://zanesville.craigslist.org      6   \n",
       "426879  zanesville / cambridge  https://zanesville.craigslist.org   9795   \n",
       "\n",
       "          year manufacturer            model  condition  ...   type  \\\n",
       "0       2002.0          bmw               x5        NaN  ...    NaN   \n",
       "1       2002.0          bmw               x5        NaN  ...    NaN   \n",
       "2       2006.0       toyota            camry  excellent  ...  sedan   \n",
       "3       2008.0         ford       expedition        NaN  ...    NaN   \n",
       "4       2008.0         ford       expedition        NaN  ...    NaN   \n",
       "...        ...          ...              ...        ...  ...    ...   \n",
       "426875  2009.0          NaN        saab 9-7x       fair  ...    SUV   \n",
       "426876  2011.0         ford            f-450       good  ...    bus   \n",
       "426877  2016.0    chevrolet        silverado  excellent  ...  truck   \n",
       "426878  1986.0          NaN  camaro iroc z28       good  ...    NaN   \n",
       "426879  1999.0        dodge          durango   like new  ...    SUV   \n",
       "\n",
       "       paint_color                                          image_url  \\\n",
       "0              NaN  https://images.craigslist.org/00m0m_iba78h8ty9...   \n",
       "1              NaN  https://images.craigslist.org/00m0m_iba78h8ty9...   \n",
       "2           silver  https://images.craigslist.org/00808_5FkOw2aGjA...   \n",
       "3              NaN  https://images.craigslist.org/00M0M_i9CoFvVq8o...   \n",
       "4              NaN  https://images.craigslist.org/00M0M_i9CoFvVq8o...   \n",
       "...            ...                                                ...   \n",
       "426875        grey  https://images.craigslist.org/00b0b_dsIhheG86S...   \n",
       "426876         red  https://images.craigslist.org/00b0b_8lBfNkZ6pr...   \n",
       "426877        blue  https://images.craigslist.org/00k0k_jw0Pda6LTk...   \n",
       "426878         red  https://images.craigslist.org/00Y0Y_avlrYDn7OY...   \n",
       "426879      silver  https://images.craigslist.org/00J0J_fbgDQsCgfB...   \n",
       "\n",
       "                                              description county state  \\\n",
       "0       $4,500 Cash  2002 BMW X5  8 cylinder 4.4L moto...    NaN    tx   \n",
       "1       $4,500 Cash  2002 BMW X5  8 cylinder 4.4L moto...    NaN    tx   \n",
       "2       2006 TOYOTA CAMRY LE Sedan   Ready To Upgrade ...    NaN    tx   \n",
       "3       $6500.00 2008 Ford Expedition  8 cylinder 5.4L...    NaN    tx   \n",
       "4       $6500.00 2008 Ford Expedition  8 cylinder 5.4L...    NaN    tx   \n",
       "...                                                   ...    ...   ...   \n",
       "426875  For sale: 2009 Saab 9-7x Fair condition  AWD  ...    NaN    oh   \n",
       "426876  2011 E-Ford 450 with 177k miles, 6.8 liter v-1...    NaN    oh   \n",
       "426877  2013 Silverado excellent condition. Blue in co...    NaN    oh   \n",
       "426878  1986 Iroc Z28 , T-tops , 86,500 miles , has ne...    NaN    oh   \n",
       "426879  FOR SALE LIKE NEW 1999 DODGE DURANGO, LOADED W...    NaN    oh   \n",
       "\n",
       "              lat       long               posting_date  \\\n",
       "0       32.401556 -99.884713  2021-04-16 00:00:00+00:00   \n",
       "1       32.401556 -99.884713  2021-04-24 00:00:00+00:00   \n",
       "2       32.453848 -99.787900  2021-04-23 00:00:00+00:00   \n",
       "3       32.401556 -99.884713  2021-04-16 00:00:00+00:00   \n",
       "4       32.401556 -99.884713  2021-04-24 00:00:00+00:00   \n",
       "...           ...        ...                        ...   \n",
       "426875  39.937000 -82.031500  2021-04-15 00:00:00+00:00   \n",
       "426876  39.927400 -82.004100  2021-04-30 00:00:00+00:00   \n",
       "426877  39.896865 -82.042283  2021-04-30 00:00:00+00:00   \n",
       "426878  39.938630 -82.006760  2021-05-03 00:00:00+00:00   \n",
       "426879  39.998337 -82.022885  2021-04-17 00:00:00+00:00   \n",
       "\n",
       "                     removal_date  \n",
       "0       2021-05-02 00:00:00+00:00  \n",
       "1       2021-04-28 00:00:00+00:00  \n",
       "2       2021-05-25 00:00:00+00:00  \n",
       "3       2021-04-26 00:00:00+00:00  \n",
       "4       2021-05-12 00:00:00+00:00  \n",
       "...                           ...  \n",
       "426875  2021-04-21 00:00:00+00:00  \n",
       "426876  2021-05-15 00:00:00+00:00  \n",
       "426877  2021-05-12 00:00:00+00:00  \n",
       "426878  2021-05-08 00:00:00+00:00  \n",
       "426879  2021-05-09 00:00:00+00:00  \n",
       "\n",
       "[426880 rows x 28 columns]"
      ]
     },
     "execution_count": 2,
     "metadata": {},
     "output_type": "execute_result"
    }
   ],
   "source": [
    "data=pd.read_csv(r'C:\\Users\\BiG\\Jupyter Lab\\Bootcamp\\HW4\\archive (2)\\craigslist_vehicles.csv')\n",
    "data"
   ]
  },
  {
   "cell_type": "code",
   "execution_count": 3,
   "id": "59fd2049-77f2-4f48-9c1e-b6e6bc3c1d8b",
   "metadata": {},
   "outputs": [
    {
     "data": {
      "text/html": [
       "<div>\n",
       "<style scoped>\n",
       "    .dataframe tbody tr th:only-of-type {\n",
       "        vertical-align: middle;\n",
       "    }\n",
       "\n",
       "    .dataframe tbody tr th {\n",
       "        vertical-align: top;\n",
       "    }\n",
       "\n",
       "    .dataframe thead th {\n",
       "        text-align: right;\n",
       "    }\n",
       "</style>\n",
       "<table border=\"1\" class=\"dataframe\">\n",
       "  <thead>\n",
       "    <tr style=\"text-align: right;\">\n",
       "      <th></th>\n",
       "      <th>Unnamed: 0</th>\n",
       "      <th>id</th>\n",
       "      <th>url</th>\n",
       "      <th>region</th>\n",
       "      <th>region_url</th>\n",
       "      <th>price</th>\n",
       "      <th>year</th>\n",
       "      <th>manufacturer</th>\n",
       "      <th>model</th>\n",
       "      <th>condition</th>\n",
       "      <th>...</th>\n",
       "      <th>type</th>\n",
       "      <th>paint_color</th>\n",
       "      <th>image_url</th>\n",
       "      <th>description</th>\n",
       "      <th>county</th>\n",
       "      <th>state</th>\n",
       "      <th>lat</th>\n",
       "      <th>long</th>\n",
       "      <th>posting_date</th>\n",
       "      <th>removal_date</th>\n",
       "    </tr>\n",
       "  </thead>\n",
       "  <tbody>\n",
       "    <tr>\n",
       "      <th>0</th>\n",
       "      <td>False</td>\n",
       "      <td>False</td>\n",
       "      <td>False</td>\n",
       "      <td>False</td>\n",
       "      <td>False</td>\n",
       "      <td>False</td>\n",
       "      <td>False</td>\n",
       "      <td>False</td>\n",
       "      <td>False</td>\n",
       "      <td>True</td>\n",
       "      <td>...</td>\n",
       "      <td>True</td>\n",
       "      <td>True</td>\n",
       "      <td>False</td>\n",
       "      <td>False</td>\n",
       "      <td>True</td>\n",
       "      <td>False</td>\n",
       "      <td>False</td>\n",
       "      <td>False</td>\n",
       "      <td>False</td>\n",
       "      <td>False</td>\n",
       "    </tr>\n",
       "    <tr>\n",
       "      <th>1</th>\n",
       "      <td>False</td>\n",
       "      <td>False</td>\n",
       "      <td>False</td>\n",
       "      <td>False</td>\n",
       "      <td>False</td>\n",
       "      <td>False</td>\n",
       "      <td>False</td>\n",
       "      <td>False</td>\n",
       "      <td>False</td>\n",
       "      <td>True</td>\n",
       "      <td>...</td>\n",
       "      <td>True</td>\n",
       "      <td>True</td>\n",
       "      <td>False</td>\n",
       "      <td>False</td>\n",
       "      <td>True</td>\n",
       "      <td>False</td>\n",
       "      <td>False</td>\n",
       "      <td>False</td>\n",
       "      <td>False</td>\n",
       "      <td>False</td>\n",
       "    </tr>\n",
       "    <tr>\n",
       "      <th>2</th>\n",
       "      <td>False</td>\n",
       "      <td>False</td>\n",
       "      <td>False</td>\n",
       "      <td>False</td>\n",
       "      <td>False</td>\n",
       "      <td>False</td>\n",
       "      <td>False</td>\n",
       "      <td>False</td>\n",
       "      <td>False</td>\n",
       "      <td>False</td>\n",
       "      <td>...</td>\n",
       "      <td>False</td>\n",
       "      <td>False</td>\n",
       "      <td>False</td>\n",
       "      <td>False</td>\n",
       "      <td>True</td>\n",
       "      <td>False</td>\n",
       "      <td>False</td>\n",
       "      <td>False</td>\n",
       "      <td>False</td>\n",
       "      <td>False</td>\n",
       "    </tr>\n",
       "    <tr>\n",
       "      <th>3</th>\n",
       "      <td>False</td>\n",
       "      <td>False</td>\n",
       "      <td>False</td>\n",
       "      <td>False</td>\n",
       "      <td>False</td>\n",
       "      <td>False</td>\n",
       "      <td>False</td>\n",
       "      <td>False</td>\n",
       "      <td>False</td>\n",
       "      <td>True</td>\n",
       "      <td>...</td>\n",
       "      <td>True</td>\n",
       "      <td>True</td>\n",
       "      <td>False</td>\n",
       "      <td>False</td>\n",
       "      <td>True</td>\n",
       "      <td>False</td>\n",
       "      <td>False</td>\n",
       "      <td>False</td>\n",
       "      <td>False</td>\n",
       "      <td>False</td>\n",
       "    </tr>\n",
       "    <tr>\n",
       "      <th>4</th>\n",
       "      <td>False</td>\n",
       "      <td>False</td>\n",
       "      <td>False</td>\n",
       "      <td>False</td>\n",
       "      <td>False</td>\n",
       "      <td>False</td>\n",
       "      <td>False</td>\n",
       "      <td>False</td>\n",
       "      <td>False</td>\n",
       "      <td>True</td>\n",
       "      <td>...</td>\n",
       "      <td>True</td>\n",
       "      <td>True</td>\n",
       "      <td>False</td>\n",
       "      <td>False</td>\n",
       "      <td>True</td>\n",
       "      <td>False</td>\n",
       "      <td>False</td>\n",
       "      <td>False</td>\n",
       "      <td>False</td>\n",
       "      <td>False</td>\n",
       "    </tr>\n",
       "    <tr>\n",
       "      <th>...</th>\n",
       "      <td>...</td>\n",
       "      <td>...</td>\n",
       "      <td>...</td>\n",
       "      <td>...</td>\n",
       "      <td>...</td>\n",
       "      <td>...</td>\n",
       "      <td>...</td>\n",
       "      <td>...</td>\n",
       "      <td>...</td>\n",
       "      <td>...</td>\n",
       "      <td>...</td>\n",
       "      <td>...</td>\n",
       "      <td>...</td>\n",
       "      <td>...</td>\n",
       "      <td>...</td>\n",
       "      <td>...</td>\n",
       "      <td>...</td>\n",
       "      <td>...</td>\n",
       "      <td>...</td>\n",
       "      <td>...</td>\n",
       "      <td>...</td>\n",
       "    </tr>\n",
       "    <tr>\n",
       "      <th>426875</th>\n",
       "      <td>False</td>\n",
       "      <td>False</td>\n",
       "      <td>False</td>\n",
       "      <td>False</td>\n",
       "      <td>False</td>\n",
       "      <td>False</td>\n",
       "      <td>False</td>\n",
       "      <td>True</td>\n",
       "      <td>False</td>\n",
       "      <td>False</td>\n",
       "      <td>...</td>\n",
       "      <td>False</td>\n",
       "      <td>False</td>\n",
       "      <td>False</td>\n",
       "      <td>False</td>\n",
       "      <td>True</td>\n",
       "      <td>False</td>\n",
       "      <td>False</td>\n",
       "      <td>False</td>\n",
       "      <td>False</td>\n",
       "      <td>False</td>\n",
       "    </tr>\n",
       "    <tr>\n",
       "      <th>426876</th>\n",
       "      <td>False</td>\n",
       "      <td>False</td>\n",
       "      <td>False</td>\n",
       "      <td>False</td>\n",
       "      <td>False</td>\n",
       "      <td>False</td>\n",
       "      <td>False</td>\n",
       "      <td>False</td>\n",
       "      <td>False</td>\n",
       "      <td>False</td>\n",
       "      <td>...</td>\n",
       "      <td>False</td>\n",
       "      <td>False</td>\n",
       "      <td>False</td>\n",
       "      <td>False</td>\n",
       "      <td>True</td>\n",
       "      <td>False</td>\n",
       "      <td>False</td>\n",
       "      <td>False</td>\n",
       "      <td>False</td>\n",
       "      <td>False</td>\n",
       "    </tr>\n",
       "    <tr>\n",
       "      <th>426877</th>\n",
       "      <td>False</td>\n",
       "      <td>False</td>\n",
       "      <td>False</td>\n",
       "      <td>False</td>\n",
       "      <td>False</td>\n",
       "      <td>False</td>\n",
       "      <td>False</td>\n",
       "      <td>False</td>\n",
       "      <td>False</td>\n",
       "      <td>False</td>\n",
       "      <td>...</td>\n",
       "      <td>False</td>\n",
       "      <td>False</td>\n",
       "      <td>False</td>\n",
       "      <td>False</td>\n",
       "      <td>True</td>\n",
       "      <td>False</td>\n",
       "      <td>False</td>\n",
       "      <td>False</td>\n",
       "      <td>False</td>\n",
       "      <td>False</td>\n",
       "    </tr>\n",
       "    <tr>\n",
       "      <th>426878</th>\n",
       "      <td>False</td>\n",
       "      <td>False</td>\n",
       "      <td>False</td>\n",
       "      <td>False</td>\n",
       "      <td>False</td>\n",
       "      <td>False</td>\n",
       "      <td>False</td>\n",
       "      <td>True</td>\n",
       "      <td>False</td>\n",
       "      <td>False</td>\n",
       "      <td>...</td>\n",
       "      <td>True</td>\n",
       "      <td>False</td>\n",
       "      <td>False</td>\n",
       "      <td>False</td>\n",
       "      <td>True</td>\n",
       "      <td>False</td>\n",
       "      <td>False</td>\n",
       "      <td>False</td>\n",
       "      <td>False</td>\n",
       "      <td>False</td>\n",
       "    </tr>\n",
       "    <tr>\n",
       "      <th>426879</th>\n",
       "      <td>False</td>\n",
       "      <td>False</td>\n",
       "      <td>False</td>\n",
       "      <td>False</td>\n",
       "      <td>False</td>\n",
       "      <td>False</td>\n",
       "      <td>False</td>\n",
       "      <td>False</td>\n",
       "      <td>False</td>\n",
       "      <td>False</td>\n",
       "      <td>...</td>\n",
       "      <td>False</td>\n",
       "      <td>False</td>\n",
       "      <td>False</td>\n",
       "      <td>False</td>\n",
       "      <td>True</td>\n",
       "      <td>False</td>\n",
       "      <td>False</td>\n",
       "      <td>False</td>\n",
       "      <td>False</td>\n",
       "      <td>False</td>\n",
       "    </tr>\n",
       "  </tbody>\n",
       "</table>\n",
       "<p>426880 rows × 28 columns</p>\n",
       "</div>"
      ],
      "text/plain": [
       "        Unnamed: 0     id    url  region  region_url  price   year  \\\n",
       "0            False  False  False   False       False  False  False   \n",
       "1            False  False  False   False       False  False  False   \n",
       "2            False  False  False   False       False  False  False   \n",
       "3            False  False  False   False       False  False  False   \n",
       "4            False  False  False   False       False  False  False   \n",
       "...            ...    ...    ...     ...         ...    ...    ...   \n",
       "426875       False  False  False   False       False  False  False   \n",
       "426876       False  False  False   False       False  False  False   \n",
       "426877       False  False  False   False       False  False  False   \n",
       "426878       False  False  False   False       False  False  False   \n",
       "426879       False  False  False   False       False  False  False   \n",
       "\n",
       "        manufacturer  model  condition  ...   type  paint_color  image_url  \\\n",
       "0              False  False       True  ...   True         True      False   \n",
       "1              False  False       True  ...   True         True      False   \n",
       "2              False  False      False  ...  False        False      False   \n",
       "3              False  False       True  ...   True         True      False   \n",
       "4              False  False       True  ...   True         True      False   \n",
       "...              ...    ...        ...  ...    ...          ...        ...   \n",
       "426875          True  False      False  ...  False        False      False   \n",
       "426876         False  False      False  ...  False        False      False   \n",
       "426877         False  False      False  ...  False        False      False   \n",
       "426878          True  False      False  ...   True        False      False   \n",
       "426879         False  False      False  ...  False        False      False   \n",
       "\n",
       "        description  county  state    lat   long  posting_date  removal_date  \n",
       "0             False    True  False  False  False         False         False  \n",
       "1             False    True  False  False  False         False         False  \n",
       "2             False    True  False  False  False         False         False  \n",
       "3             False    True  False  False  False         False         False  \n",
       "4             False    True  False  False  False         False         False  \n",
       "...             ...     ...    ...    ...    ...           ...           ...  \n",
       "426875        False    True  False  False  False         False         False  \n",
       "426876        False    True  False  False  False         False         False  \n",
       "426877        False    True  False  False  False         False         False  \n",
       "426878        False    True  False  False  False         False         False  \n",
       "426879        False    True  False  False  False         False         False  \n",
       "\n",
       "[426880 rows x 28 columns]"
      ]
     },
     "execution_count": 3,
     "metadata": {},
     "output_type": "execute_result"
    }
   ],
   "source": [
    "data.isnull()"
   ]
  },
  {
   "cell_type": "code",
   "execution_count": 4,
   "id": "fb048cc2-95c2-4687-94a8-e98dc16a9aae",
   "metadata": {},
   "outputs": [
    {
     "data": {
      "text/plain": [
       "Unnamed: 0           0\n",
       "id                   0\n",
       "url                  0\n",
       "region               0\n",
       "region_url           0\n",
       "price                0\n",
       "year              1205\n",
       "manufacturer     17646\n",
       "model             5277\n",
       "condition       174104\n",
       "cylinders       177678\n",
       "fuel              3013\n",
       "odometer          4400\n",
       "title_status      8242\n",
       "transmission      2556\n",
       "VIN             161042\n",
       "drive           130567\n",
       "size            306361\n",
       "type             92858\n",
       "paint_color     130203\n",
       "image_url           68\n",
       "description         70\n",
       "county          426880\n",
       "state                0\n",
       "lat               6549\n",
       "long              6549\n",
       "posting_date        68\n",
       "removal_date        68\n",
       "dtype: int64"
      ]
     },
     "execution_count": 4,
     "metadata": {},
     "output_type": "execute_result"
    }
   ],
   "source": [
    "data.isnull().sum()"
   ]
  },
  {
   "cell_type": "code",
   "execution_count": 5,
   "id": "35de9587-6a3a-43e0-b4ed-64d8bb6004d0",
   "metadata": {},
   "outputs": [
    {
     "name": "stdout",
     "output_type": "stream",
     "text": [
      "<class 'pandas.core.frame.DataFrame'>\n",
      "RangeIndex: 426880 entries, 0 to 426879\n",
      "Data columns (total 28 columns):\n",
      " #   Column        Non-Null Count   Dtype  \n",
      "---  ------        --------------   -----  \n",
      " 0   Unnamed: 0    426880 non-null  int64  \n",
      " 1   id            426880 non-null  int64  \n",
      " 2   url           426880 non-null  object \n",
      " 3   region        426880 non-null  object \n",
      " 4   region_url    426880 non-null  object \n",
      " 5   price         426880 non-null  int64  \n",
      " 6   year          425675 non-null  float64\n",
      " 7   manufacturer  409234 non-null  object \n",
      " 8   model         421603 non-null  object \n",
      " 9   condition     252776 non-null  object \n",
      " 10  cylinders     249202 non-null  object \n",
      " 11  fuel          423867 non-null  object \n",
      " 12  odometer      422480 non-null  float64\n",
      " 13  title_status  418638 non-null  object \n",
      " 14  transmission  424324 non-null  object \n",
      " 15  VIN           265838 non-null  object \n",
      " 16  drive         296313 non-null  object \n",
      " 17  size          120519 non-null  object \n",
      " 18  type          334022 non-null  object \n",
      " 19  paint_color   296677 non-null  object \n",
      " 20  image_url     426812 non-null  object \n",
      " 21  description   426810 non-null  object \n",
      " 22  county        0 non-null       float64\n",
      " 23  state         426880 non-null  object \n",
      " 24  lat           420331 non-null  float64\n",
      " 25  long          420331 non-null  float64\n",
      " 26  posting_date  426812 non-null  object \n",
      " 27  removal_date  426812 non-null  object \n",
      "dtypes: float64(5), int64(3), object(20)\n",
      "memory usage: 91.2+ MB\n"
     ]
    }
   ],
   "source": [
    "data.info()"
   ]
  },
  {
   "cell_type": "code",
   "execution_count": 6,
   "id": "4ea48e83-6f06-48ef-b743-73bb9b95d747",
   "metadata": {},
   "outputs": [],
   "source": [
    "mode_value = data['year'].mode()[0]  # Get the mode value\n",
    "\n",
    "data['year'].fillna(mode_value, inplace=True)"
   ]
  },
  {
   "cell_type": "code",
   "execution_count": 7,
   "id": "6a5c263d-bb9b-4142-bba4-ec6327ccd31e",
   "metadata": {},
   "outputs": [
    {
     "data": {
      "text/plain": [
       "Unnamed: 0           0\n",
       "id                   0\n",
       "url                  0\n",
       "region               0\n",
       "region_url           0\n",
       "price                0\n",
       "year                 0\n",
       "manufacturer     17646\n",
       "model             5277\n",
       "condition       174104\n",
       "cylinders       177678\n",
       "fuel              3013\n",
       "odometer          4400\n",
       "title_status      8242\n",
       "transmission      2556\n",
       "VIN             161042\n",
       "drive           130567\n",
       "size            306361\n",
       "type             92858\n",
       "paint_color     130203\n",
       "image_url           68\n",
       "description         70\n",
       "county          426880\n",
       "state                0\n",
       "lat               6549\n",
       "long              6549\n",
       "posting_date        68\n",
       "removal_date        68\n",
       "dtype: int64"
      ]
     },
     "execution_count": 7,
     "metadata": {},
     "output_type": "execute_result"
    }
   ],
   "source": [
    "data.isnull().sum()"
   ]
  },
  {
   "cell_type": "code",
   "execution_count": 8,
   "id": "77124250-ccf7-46a3-86aa-0e6cc939bed0",
   "metadata": {},
   "outputs": [],
   "source": [
    "mode_value = data['manufacturer'].mode()[0]  # Get the mode value\n",
    "\n",
    "data['manufacturer'].fillna(mode_value, inplace=True)"
   ]
  },
  {
   "cell_type": "code",
   "execution_count": 9,
   "id": "60434a24-081f-47b8-9698-3f166e5b2b99",
   "metadata": {},
   "outputs": [],
   "source": [
    "mode_value = data['model'].mode()[0]  # Get the mode value\n",
    "\n",
    "data['model'].fillna(mode_value, inplace=True)"
   ]
  },
  {
   "cell_type": "code",
   "execution_count": 10,
   "id": "19bf2eaf-5145-4520-ab07-cc1a48d4e209",
   "metadata": {},
   "outputs": [],
   "source": [
    "mode_value = data['cylinders'].mode()[0]  # Get the mode value\n",
    "\n",
    "data['cylinders'].fillna(mode_value, inplace=True)"
   ]
  },
  {
   "cell_type": "code",
   "execution_count": 11,
   "id": "96c303c1-039a-464a-b0a3-ad7f65d44078",
   "metadata": {},
   "outputs": [],
   "source": [
    "mode_value = data['condition'].mode()[0]  # Get the mode value\n",
    "\n",
    "data['condition'].fillna(mode_value, inplace=True)"
   ]
  },
  {
   "cell_type": "code",
   "execution_count": 12,
   "id": "41a85dbe-7301-419a-bc93-6aaa6883f152",
   "metadata": {},
   "outputs": [],
   "source": [
    "mode_value = data['fuel'].mode()[0]  # Get the mode value\n",
    "\n",
    "data['fuel'].fillna(mode_value, inplace=True)"
   ]
  },
  {
   "cell_type": "code",
   "execution_count": 13,
   "id": "b7fbc224-c321-4f1b-a274-e94cf2ef6b2f",
   "metadata": {},
   "outputs": [],
   "source": [
    "mode_value = data['paint_color'].mode()[0]  # Get the mode value\n",
    "\n",
    "data['paint_color'].fillna(mode_value, inplace=True)"
   ]
  },
  {
   "cell_type": "code",
   "execution_count": 14,
   "id": "35b06569-ac76-441d-8b63-802fbf673fcb",
   "metadata": {},
   "outputs": [],
   "source": [
    "mode_value = data['size'].mode()[0]  # Get the mode value\n",
    "\n",
    "data['size'].fillna(mode_value, inplace=True)"
   ]
  },
  {
   "cell_type": "code",
   "execution_count": 15,
   "id": "80be7e98-f441-44a2-a3ce-81c86f8cc2d9",
   "metadata": {},
   "outputs": [],
   "source": [
    "mode_value = data['type'].mode()[0]  # Get the mode value\n",
    "\n",
    "data['type'].fillna(mode_value, inplace=True)"
   ]
  },
  {
   "cell_type": "code",
   "execution_count": 16,
   "id": "df4ab795-4d2a-421b-92b9-a99c4726295e",
   "metadata": {},
   "outputs": [],
   "source": [
    "mode_value = data['image_url'].mode()[0]  # Get the mode value\n",
    "\n",
    "data['image_url'].fillna(mode_value, inplace=True)"
   ]
  },
  {
   "cell_type": "code",
   "execution_count": 17,
   "id": "a95a2748-da50-4243-a250-7cdcc7c52220",
   "metadata": {},
   "outputs": [],
   "source": [
    "mode_value = data['description'].mode()[0]  # Get the mode value\n",
    "\n",
    "data['description'].fillna(mode_value, inplace=True)"
   ]
  },
  {
   "cell_type": "code",
   "execution_count": 18,
   "id": "f7457cb7-4036-4a36-98d9-a561059917f7",
   "metadata": {},
   "outputs": [],
   "source": [
    "mode_value = data['posting_date'].mode()[0]  # Get the mode value\n",
    "\n",
    "data['posting_date'].fillna(mode_value, inplace=True)"
   ]
  },
  {
   "cell_type": "code",
   "execution_count": 19,
   "id": "aa52c408-bf61-4146-8884-d0780a48f3c3",
   "metadata": {},
   "outputs": [],
   "source": [
    "mode_value = data['state'].mode()[0]  # Get the mode value\n",
    "\n",
    "data['state'].fillna(mode_value, inplace=True)"
   ]
  },
  {
   "cell_type": "code",
   "execution_count": 20,
   "id": "dda70bb7-4147-48f1-bd28-e400c64ed34b",
   "metadata": {},
   "outputs": [],
   "source": [
    "mode_value = data['removal_date'].mode()[0]  # Get the mode value\n",
    "\n",
    "data['removal_date'].fillna(mode_value, inplace=True)"
   ]
  },
  {
   "cell_type": "code",
   "execution_count": 21,
   "id": "a009bb3f-e47c-4e78-858b-fe5756cc3f8a",
   "metadata": {},
   "outputs": [],
   "source": [
    "mean_value = data['odometer'].mean()  # Get the mean value\n",
    "\n",
    "data['odometer'].fillna(mode_value, inplace=True)"
   ]
  },
  {
   "cell_type": "code",
   "execution_count": 22,
   "id": "9e9f4072-0fe1-4018-a652-de9b32863e85",
   "metadata": {},
   "outputs": [
    {
     "data": {
      "text/plain": [
       "0         184000.0\n",
       "1         184000.0\n",
       "2         184930.0\n",
       "3         206000.0\n",
       "4         206000.0\n",
       "            ...   \n",
       "426875    106000.0\n",
       "426876    177886.0\n",
       "426877     78850.0\n",
       "426878     86500.0\n",
       "426879     74000.0\n",
       "Name: odometer, Length: 426880, dtype: object"
      ]
     },
     "execution_count": 22,
     "metadata": {},
     "output_type": "execute_result"
    }
   ],
   "source": [
    "data['odometer']"
   ]
  },
  {
   "cell_type": "code",
   "execution_count": 23,
   "id": "259c0155-8922-4847-8612-0d3d49901dc2",
   "metadata": {},
   "outputs": [],
   "source": [
    "mode_value = data['title_status'].mode()[0]  # Get the mode value\n",
    "\n",
    "data['title_status'].fillna(mode_value, inplace=True)"
   ]
  },
  {
   "cell_type": "code",
   "execution_count": 24,
   "id": "14df6bcd-c32b-415a-b767-f275f680eeb3",
   "metadata": {},
   "outputs": [],
   "source": [
    "mode_value = data['transmission'].mode()[0]  # Get the mode value\n",
    "\n",
    "data['transmission'].fillna(mode_value, inplace=True)"
   ]
  },
  {
   "cell_type": "code",
   "execution_count": 25,
   "id": "434b0d81-1a00-4814-ad9b-22d567e6880f",
   "metadata": {},
   "outputs": [],
   "source": [
    "mode_value = data['VIN'].mode()[0]  # Get the mode value\n",
    "\n",
    "data['VIN'].fillna(mode_value, inplace=True)"
   ]
  },
  {
   "cell_type": "code",
   "execution_count": 26,
   "id": "ec165a68-e1e5-4637-bace-70604444dc36",
   "metadata": {},
   "outputs": [],
   "source": [
    "mode_value = data['drive'].mode()[0]  # Get the mode value\n",
    "\n",
    "data['drive'].fillna(mode_value, inplace=True)"
   ]
  },
  {
   "cell_type": "code",
   "execution_count": 27,
   "id": "400e2aa3-c98d-4877-85da-92acd67959a2",
   "metadata": {},
   "outputs": [],
   "source": [
    "mode_value = data['county'].mean() # Get the mode value\n",
    "\n",
    "data['county'].fillna(mode_value, inplace=True)"
   ]
  },
  {
   "cell_type": "code",
   "execution_count": 28,
   "id": "1fd1b50d-47b5-4f92-be87-b6b53ac60fc4",
   "metadata": {},
   "outputs": [],
   "source": [
    "mode_value = data['lat'].mean()  # Get the mode value\n",
    "\n",
    "data['lat'].fillna(mode_value, inplace=True)"
   ]
  },
  {
   "cell_type": "code",
   "execution_count": 29,
   "id": "c160913f-1557-42ff-a522-21e219fa322b",
   "metadata": {},
   "outputs": [],
   "source": [
    "mode_value = data['long'].mean()  # Get the mode value\n",
    "\n",
    "data['long'].fillna(mode_value, inplace=True)"
   ]
  },
  {
   "cell_type": "code",
   "execution_count": 30,
   "id": "5d22ee11-1b65-4f9f-9206-42050713e77a",
   "metadata": {},
   "outputs": [],
   "source": [
    "mode_value = data['drive'].mode()[0]  # Get the mode value\n",
    "\n",
    "data['drive'].fillna(mode_value, inplace=True)"
   ]
  },
  {
   "cell_type": "code",
   "execution_count": 31,
   "id": "e6726c62-fe66-43ee-8309-a628735dedfd",
   "metadata": {},
   "outputs": [
    {
     "data": {
      "text/plain": [
       "Unnamed: 0           0\n",
       "id                   0\n",
       "url                  0\n",
       "region               0\n",
       "region_url           0\n",
       "price                0\n",
       "year                 0\n",
       "manufacturer         0\n",
       "model                0\n",
       "condition            0\n",
       "cylinders            0\n",
       "fuel                 0\n",
       "odometer             0\n",
       "title_status         0\n",
       "transmission         0\n",
       "VIN                  0\n",
       "drive                0\n",
       "size                 0\n",
       "type                 0\n",
       "paint_color          0\n",
       "image_url            0\n",
       "description          0\n",
       "county          426880\n",
       "state                0\n",
       "lat                  0\n",
       "long                 0\n",
       "posting_date         0\n",
       "removal_date         0\n",
       "dtype: int64"
      ]
     },
     "execution_count": 31,
     "metadata": {},
     "output_type": "execute_result"
    }
   ],
   "source": [
    "data.isnull().sum()"
   ]
  },
  {
   "cell_type": "code",
   "execution_count": 32,
   "id": "d559ffde-4d98-49c8-b494-e168ebbfe1ba",
   "metadata": {},
   "outputs": [
    {
     "data": {
      "text/html": [
       "<div>\n",
       "<style scoped>\n",
       "    .dataframe tbody tr th:only-of-type {\n",
       "        vertical-align: middle;\n",
       "    }\n",
       "\n",
       "    .dataframe tbody tr th {\n",
       "        vertical-align: top;\n",
       "    }\n",
       "\n",
       "    .dataframe thead th {\n",
       "        text-align: right;\n",
       "    }\n",
       "</style>\n",
       "<table border=\"1\" class=\"dataframe\">\n",
       "  <thead>\n",
       "    <tr style=\"text-align: right;\">\n",
       "      <th></th>\n",
       "      <th>Unnamed: 0</th>\n",
       "      <th>id</th>\n",
       "      <th>url</th>\n",
       "      <th>region</th>\n",
       "      <th>region_url</th>\n",
       "      <th>price</th>\n",
       "      <th>year</th>\n",
       "      <th>manufacturer</th>\n",
       "      <th>model</th>\n",
       "      <th>condition</th>\n",
       "      <th>...</th>\n",
       "      <th>type</th>\n",
       "      <th>paint_color</th>\n",
       "      <th>image_url</th>\n",
       "      <th>description</th>\n",
       "      <th>county</th>\n",
       "      <th>state</th>\n",
       "      <th>lat</th>\n",
       "      <th>long</th>\n",
       "      <th>posting_date</th>\n",
       "      <th>removal_date</th>\n",
       "    </tr>\n",
       "  </thead>\n",
       "  <tbody>\n",
       "    <tr>\n",
       "      <th>0</th>\n",
       "      <td>362773</td>\n",
       "      <td>7307679724</td>\n",
       "      <td>https://abilene.craigslist.org/ctd/d/abilene-2...</td>\n",
       "      <td>abilene</td>\n",
       "      <td>https://abilene.craigslist.org</td>\n",
       "      <td>4500</td>\n",
       "      <td>2002.0</td>\n",
       "      <td>bmw</td>\n",
       "      <td>x5</td>\n",
       "      <td>good</td>\n",
       "      <td>...</td>\n",
       "      <td>sedan</td>\n",
       "      <td>white</td>\n",
       "      <td>https://images.craigslist.org/00m0m_iba78h8ty9...</td>\n",
       "      <td>$4,500 Cash  2002 BMW X5  8 cylinder 4.4L moto...</td>\n",
       "      <td>NaN</td>\n",
       "      <td>tx</td>\n",
       "      <td>32.401556</td>\n",
       "      <td>-99.884713</td>\n",
       "      <td>2021-04-16 00:00:00+00:00</td>\n",
       "      <td>2021-05-02 00:00:00+00:00</td>\n",
       "    </tr>\n",
       "    <tr>\n",
       "      <th>1</th>\n",
       "      <td>362712</td>\n",
       "      <td>7311833696</td>\n",
       "      <td>https://abilene.craigslist.org/ctd/d/abilene-2...</td>\n",
       "      <td>abilene</td>\n",
       "      <td>https://abilene.craigslist.org</td>\n",
       "      <td>4500</td>\n",
       "      <td>2002.0</td>\n",
       "      <td>bmw</td>\n",
       "      <td>x5</td>\n",
       "      <td>good</td>\n",
       "      <td>...</td>\n",
       "      <td>sedan</td>\n",
       "      <td>white</td>\n",
       "      <td>https://images.craigslist.org/00m0m_iba78h8ty9...</td>\n",
       "      <td>$4,500 Cash  2002 BMW X5  8 cylinder 4.4L moto...</td>\n",
       "      <td>NaN</td>\n",
       "      <td>tx</td>\n",
       "      <td>32.401556</td>\n",
       "      <td>-99.884713</td>\n",
       "      <td>2021-04-24 00:00:00+00:00</td>\n",
       "      <td>2021-04-28 00:00:00+00:00</td>\n",
       "    </tr>\n",
       "    <tr>\n",
       "      <th>2</th>\n",
       "      <td>362722</td>\n",
       "      <td>7311441996</td>\n",
       "      <td>https://abilene.craigslist.org/ctd/d/abilene-2...</td>\n",
       "      <td>abilene</td>\n",
       "      <td>https://abilene.craigslist.org</td>\n",
       "      <td>4900</td>\n",
       "      <td>2006.0</td>\n",
       "      <td>toyota</td>\n",
       "      <td>camry</td>\n",
       "      <td>excellent</td>\n",
       "      <td>...</td>\n",
       "      <td>sedan</td>\n",
       "      <td>silver</td>\n",
       "      <td>https://images.craigslist.org/00808_5FkOw2aGjA...</td>\n",
       "      <td>2006 TOYOTA CAMRY LE Sedan   Ready To Upgrade ...</td>\n",
       "      <td>NaN</td>\n",
       "      <td>tx</td>\n",
       "      <td>32.453848</td>\n",
       "      <td>-99.787900</td>\n",
       "      <td>2021-04-23 00:00:00+00:00</td>\n",
       "      <td>2021-05-25 00:00:00+00:00</td>\n",
       "    </tr>\n",
       "    <tr>\n",
       "      <th>3</th>\n",
       "      <td>362771</td>\n",
       "      <td>7307680715</td>\n",
       "      <td>https://abilene.craigslist.org/ctd/d/abilene-2...</td>\n",
       "      <td>abilene</td>\n",
       "      <td>https://abilene.craigslist.org</td>\n",
       "      <td>6500</td>\n",
       "      <td>2008.0</td>\n",
       "      <td>ford</td>\n",
       "      <td>expedition</td>\n",
       "      <td>good</td>\n",
       "      <td>...</td>\n",
       "      <td>sedan</td>\n",
       "      <td>white</td>\n",
       "      <td>https://images.craigslist.org/00M0M_i9CoFvVq8o...</td>\n",
       "      <td>$6500.00 2008 Ford Expedition  8 cylinder 5.4L...</td>\n",
       "      <td>NaN</td>\n",
       "      <td>tx</td>\n",
       "      <td>32.401556</td>\n",
       "      <td>-99.884713</td>\n",
       "      <td>2021-04-16 00:00:00+00:00</td>\n",
       "      <td>2021-04-26 00:00:00+00:00</td>\n",
       "    </tr>\n",
       "    <tr>\n",
       "      <th>4</th>\n",
       "      <td>362710</td>\n",
       "      <td>7311834578</td>\n",
       "      <td>https://abilene.craigslist.org/ctd/d/abilene-2...</td>\n",
       "      <td>abilene</td>\n",
       "      <td>https://abilene.craigslist.org</td>\n",
       "      <td>6500</td>\n",
       "      <td>2008.0</td>\n",
       "      <td>ford</td>\n",
       "      <td>expedition</td>\n",
       "      <td>good</td>\n",
       "      <td>...</td>\n",
       "      <td>sedan</td>\n",
       "      <td>white</td>\n",
       "      <td>https://images.craigslist.org/00M0M_i9CoFvVq8o...</td>\n",
       "      <td>$6500.00 2008 Ford Expedition  8 cylinder 5.4L...</td>\n",
       "      <td>NaN</td>\n",
       "      <td>tx</td>\n",
       "      <td>32.401556</td>\n",
       "      <td>-99.884713</td>\n",
       "      <td>2021-04-24 00:00:00+00:00</td>\n",
       "      <td>2021-05-12 00:00:00+00:00</td>\n",
       "    </tr>\n",
       "    <tr>\n",
       "      <th>...</th>\n",
       "      <td>...</td>\n",
       "      <td>...</td>\n",
       "      <td>...</td>\n",
       "      <td>...</td>\n",
       "      <td>...</td>\n",
       "      <td>...</td>\n",
       "      <td>...</td>\n",
       "      <td>...</td>\n",
       "      <td>...</td>\n",
       "      <td>...</td>\n",
       "      <td>...</td>\n",
       "      <td>...</td>\n",
       "      <td>...</td>\n",
       "      <td>...</td>\n",
       "      <td>...</td>\n",
       "      <td>...</td>\n",
       "      <td>...</td>\n",
       "      <td>...</td>\n",
       "      <td>...</td>\n",
       "      <td>...</td>\n",
       "      <td>...</td>\n",
       "    </tr>\n",
       "    <tr>\n",
       "      <th>426875</th>\n",
       "      <td>303849</td>\n",
       "      <td>7307070484</td>\n",
       "      <td>https://zanesville.craigslist.org/cto/d/zanesv...</td>\n",
       "      <td>zanesville / cambridge</td>\n",
       "      <td>https://zanesville.craigslist.org</td>\n",
       "      <td>5100</td>\n",
       "      <td>2009.0</td>\n",
       "      <td>ford</td>\n",
       "      <td>saab 9-7x</td>\n",
       "      <td>fair</td>\n",
       "      <td>...</td>\n",
       "      <td>SUV</td>\n",
       "      <td>grey</td>\n",
       "      <td>https://images.craigslist.org/00b0b_dsIhheG86S...</td>\n",
       "      <td>For sale: 2009 Saab 9-7x Fair condition  AWD  ...</td>\n",
       "      <td>NaN</td>\n",
       "      <td>oh</td>\n",
       "      <td>39.937000</td>\n",
       "      <td>-82.031500</td>\n",
       "      <td>2021-04-15 00:00:00+00:00</td>\n",
       "      <td>2021-04-21 00:00:00+00:00</td>\n",
       "    </tr>\n",
       "    <tr>\n",
       "      <th>426876</th>\n",
       "      <td>303706</td>\n",
       "      <td>7314635557</td>\n",
       "      <td>https://zanesville.craigslist.org/cto/d/zanesv...</td>\n",
       "      <td>zanesville / cambridge</td>\n",
       "      <td>https://zanesville.craigslist.org</td>\n",
       "      <td>7500</td>\n",
       "      <td>2011.0</td>\n",
       "      <td>ford</td>\n",
       "      <td>f-450</td>\n",
       "      <td>good</td>\n",
       "      <td>...</td>\n",
       "      <td>bus</td>\n",
       "      <td>red</td>\n",
       "      <td>https://images.craigslist.org/00b0b_8lBfNkZ6pr...</td>\n",
       "      <td>2011 E-Ford 450 with 177k miles, 6.8 liter v-1...</td>\n",
       "      <td>NaN</td>\n",
       "      <td>oh</td>\n",
       "      <td>39.927400</td>\n",
       "      <td>-82.004100</td>\n",
       "      <td>2021-04-30 00:00:00+00:00</td>\n",
       "      <td>2021-05-15 00:00:00+00:00</td>\n",
       "    </tr>\n",
       "    <tr>\n",
       "      <th>426877</th>\n",
       "      <td>303704</td>\n",
       "      <td>7314710341</td>\n",
       "      <td>https://zanesville.craigslist.org/cto/d/zanesv...</td>\n",
       "      <td>zanesville / cambridge</td>\n",
       "      <td>https://zanesville.craigslist.org</td>\n",
       "      <td>25000</td>\n",
       "      <td>2016.0</td>\n",
       "      <td>chevrolet</td>\n",
       "      <td>silverado</td>\n",
       "      <td>excellent</td>\n",
       "      <td>...</td>\n",
       "      <td>truck</td>\n",
       "      <td>blue</td>\n",
       "      <td>https://images.craigslist.org/00k0k_jw0Pda6LTk...</td>\n",
       "      <td>2013 Silverado excellent condition. Blue in co...</td>\n",
       "      <td>NaN</td>\n",
       "      <td>oh</td>\n",
       "      <td>39.896865</td>\n",
       "      <td>-82.042283</td>\n",
       "      <td>2021-04-30 00:00:00+00:00</td>\n",
       "      <td>2021-05-12 00:00:00+00:00</td>\n",
       "    </tr>\n",
       "    <tr>\n",
       "      <th>426878</th>\n",
       "      <td>303670</td>\n",
       "      <td>7316225330</td>\n",
       "      <td>https://zanesville.craigslist.org/cto/d/zanesv...</td>\n",
       "      <td>zanesville / cambridge</td>\n",
       "      <td>https://zanesville.craigslist.org</td>\n",
       "      <td>6</td>\n",
       "      <td>1986.0</td>\n",
       "      <td>ford</td>\n",
       "      <td>camaro iroc z28</td>\n",
       "      <td>good</td>\n",
       "      <td>...</td>\n",
       "      <td>sedan</td>\n",
       "      <td>red</td>\n",
       "      <td>https://images.craigslist.org/00Y0Y_avlrYDn7OY...</td>\n",
       "      <td>1986 Iroc Z28 , T-tops , 86,500 miles , has ne...</td>\n",
       "      <td>NaN</td>\n",
       "      <td>oh</td>\n",
       "      <td>39.938630</td>\n",
       "      <td>-82.006760</td>\n",
       "      <td>2021-05-03 00:00:00+00:00</td>\n",
       "      <td>2021-05-08 00:00:00+00:00</td>\n",
       "    </tr>\n",
       "    <tr>\n",
       "      <th>426879</th>\n",
       "      <td>303836</td>\n",
       "      <td>7308192431</td>\n",
       "      <td>https://zanesville.craigslist.org/cto/d/zanesv...</td>\n",
       "      <td>zanesville / cambridge</td>\n",
       "      <td>https://zanesville.craigslist.org</td>\n",
       "      <td>9795</td>\n",
       "      <td>1999.0</td>\n",
       "      <td>dodge</td>\n",
       "      <td>durango</td>\n",
       "      <td>like new</td>\n",
       "      <td>...</td>\n",
       "      <td>SUV</td>\n",
       "      <td>silver</td>\n",
       "      <td>https://images.craigslist.org/00J0J_fbgDQsCgfB...</td>\n",
       "      <td>FOR SALE LIKE NEW 1999 DODGE DURANGO, LOADED W...</td>\n",
       "      <td>NaN</td>\n",
       "      <td>oh</td>\n",
       "      <td>39.998337</td>\n",
       "      <td>-82.022885</td>\n",
       "      <td>2021-04-17 00:00:00+00:00</td>\n",
       "      <td>2021-05-09 00:00:00+00:00</td>\n",
       "    </tr>\n",
       "  </tbody>\n",
       "</table>\n",
       "<p>426880 rows × 28 columns</p>\n",
       "</div>"
      ],
      "text/plain": [
       "        Unnamed: 0          id  \\\n",
       "0           362773  7307679724   \n",
       "1           362712  7311833696   \n",
       "2           362722  7311441996   \n",
       "3           362771  7307680715   \n",
       "4           362710  7311834578   \n",
       "...            ...         ...   \n",
       "426875      303849  7307070484   \n",
       "426876      303706  7314635557   \n",
       "426877      303704  7314710341   \n",
       "426878      303670  7316225330   \n",
       "426879      303836  7308192431   \n",
       "\n",
       "                                                      url  \\\n",
       "0       https://abilene.craigslist.org/ctd/d/abilene-2...   \n",
       "1       https://abilene.craigslist.org/ctd/d/abilene-2...   \n",
       "2       https://abilene.craigslist.org/ctd/d/abilene-2...   \n",
       "3       https://abilene.craigslist.org/ctd/d/abilene-2...   \n",
       "4       https://abilene.craigslist.org/ctd/d/abilene-2...   \n",
       "...                                                   ...   \n",
       "426875  https://zanesville.craigslist.org/cto/d/zanesv...   \n",
       "426876  https://zanesville.craigslist.org/cto/d/zanesv...   \n",
       "426877  https://zanesville.craigslist.org/cto/d/zanesv...   \n",
       "426878  https://zanesville.craigslist.org/cto/d/zanesv...   \n",
       "426879  https://zanesville.craigslist.org/cto/d/zanesv...   \n",
       "\n",
       "                        region                         region_url  price  \\\n",
       "0                      abilene     https://abilene.craigslist.org   4500   \n",
       "1                      abilene     https://abilene.craigslist.org   4500   \n",
       "2                      abilene     https://abilene.craigslist.org   4900   \n",
       "3                      abilene     https://abilene.craigslist.org   6500   \n",
       "4                      abilene     https://abilene.craigslist.org   6500   \n",
       "...                        ...                                ...    ...   \n",
       "426875  zanesville / cambridge  https://zanesville.craigslist.org   5100   \n",
       "426876  zanesville / cambridge  https://zanesville.craigslist.org   7500   \n",
       "426877  zanesville / cambridge  https://zanesville.craigslist.org  25000   \n",
       "426878  zanesville / cambridge  https://zanesville.craigslist.org      6   \n",
       "426879  zanesville / cambridge  https://zanesville.craigslist.org   9795   \n",
       "\n",
       "          year manufacturer            model  condition  ...   type  \\\n",
       "0       2002.0          bmw               x5       good  ...  sedan   \n",
       "1       2002.0          bmw               x5       good  ...  sedan   \n",
       "2       2006.0       toyota            camry  excellent  ...  sedan   \n",
       "3       2008.0         ford       expedition       good  ...  sedan   \n",
       "4       2008.0         ford       expedition       good  ...  sedan   \n",
       "...        ...          ...              ...        ...  ...    ...   \n",
       "426875  2009.0         ford        saab 9-7x       fair  ...    SUV   \n",
       "426876  2011.0         ford            f-450       good  ...    bus   \n",
       "426877  2016.0    chevrolet        silverado  excellent  ...  truck   \n",
       "426878  1986.0         ford  camaro iroc z28       good  ...  sedan   \n",
       "426879  1999.0        dodge          durango   like new  ...    SUV   \n",
       "\n",
       "       paint_color                                          image_url  \\\n",
       "0            white  https://images.craigslist.org/00m0m_iba78h8ty9...   \n",
       "1            white  https://images.craigslist.org/00m0m_iba78h8ty9...   \n",
       "2           silver  https://images.craigslist.org/00808_5FkOw2aGjA...   \n",
       "3            white  https://images.craigslist.org/00M0M_i9CoFvVq8o...   \n",
       "4            white  https://images.craigslist.org/00M0M_i9CoFvVq8o...   \n",
       "...            ...                                                ...   \n",
       "426875        grey  https://images.craigslist.org/00b0b_dsIhheG86S...   \n",
       "426876         red  https://images.craigslist.org/00b0b_8lBfNkZ6pr...   \n",
       "426877        blue  https://images.craigslist.org/00k0k_jw0Pda6LTk...   \n",
       "426878         red  https://images.craigslist.org/00Y0Y_avlrYDn7OY...   \n",
       "426879      silver  https://images.craigslist.org/00J0J_fbgDQsCgfB...   \n",
       "\n",
       "                                              description county state  \\\n",
       "0       $4,500 Cash  2002 BMW X5  8 cylinder 4.4L moto...    NaN    tx   \n",
       "1       $4,500 Cash  2002 BMW X5  8 cylinder 4.4L moto...    NaN    tx   \n",
       "2       2006 TOYOTA CAMRY LE Sedan   Ready To Upgrade ...    NaN    tx   \n",
       "3       $6500.00 2008 Ford Expedition  8 cylinder 5.4L...    NaN    tx   \n",
       "4       $6500.00 2008 Ford Expedition  8 cylinder 5.4L...    NaN    tx   \n",
       "...                                                   ...    ...   ...   \n",
       "426875  For sale: 2009 Saab 9-7x Fair condition  AWD  ...    NaN    oh   \n",
       "426876  2011 E-Ford 450 with 177k miles, 6.8 liter v-1...    NaN    oh   \n",
       "426877  2013 Silverado excellent condition. Blue in co...    NaN    oh   \n",
       "426878  1986 Iroc Z28 , T-tops , 86,500 miles , has ne...    NaN    oh   \n",
       "426879  FOR SALE LIKE NEW 1999 DODGE DURANGO, LOADED W...    NaN    oh   \n",
       "\n",
       "              lat       long               posting_date  \\\n",
       "0       32.401556 -99.884713  2021-04-16 00:00:00+00:00   \n",
       "1       32.401556 -99.884713  2021-04-24 00:00:00+00:00   \n",
       "2       32.453848 -99.787900  2021-04-23 00:00:00+00:00   \n",
       "3       32.401556 -99.884713  2021-04-16 00:00:00+00:00   \n",
       "4       32.401556 -99.884713  2021-04-24 00:00:00+00:00   \n",
       "...           ...        ...                        ...   \n",
       "426875  39.937000 -82.031500  2021-04-15 00:00:00+00:00   \n",
       "426876  39.927400 -82.004100  2021-04-30 00:00:00+00:00   \n",
       "426877  39.896865 -82.042283  2021-04-30 00:00:00+00:00   \n",
       "426878  39.938630 -82.006760  2021-05-03 00:00:00+00:00   \n",
       "426879  39.998337 -82.022885  2021-04-17 00:00:00+00:00   \n",
       "\n",
       "                     removal_date  \n",
       "0       2021-05-02 00:00:00+00:00  \n",
       "1       2021-04-28 00:00:00+00:00  \n",
       "2       2021-05-25 00:00:00+00:00  \n",
       "3       2021-04-26 00:00:00+00:00  \n",
       "4       2021-05-12 00:00:00+00:00  \n",
       "...                           ...  \n",
       "426875  2021-04-21 00:00:00+00:00  \n",
       "426876  2021-05-15 00:00:00+00:00  \n",
       "426877  2021-05-12 00:00:00+00:00  \n",
       "426878  2021-05-08 00:00:00+00:00  \n",
       "426879  2021-05-09 00:00:00+00:00  \n",
       "\n",
       "[426880 rows x 28 columns]"
      ]
     },
     "execution_count": 32,
     "metadata": {},
     "output_type": "execute_result"
    }
   ],
   "source": [
    "data"
   ]
  },
  {
   "cell_type": "code",
   "execution_count": 33,
   "id": "2f613a9c-1264-4820-a5cf-1043806c3d34",
   "metadata": {},
   "outputs": [
    {
     "data": {
      "text/plain": [
       "pandas.core.series.Series"
      ]
     },
     "execution_count": 33,
     "metadata": {},
     "output_type": "execute_result"
    }
   ],
   "source": [
    "type(data['removal_date'])"
   ]
  },
  {
   "cell_type": "code",
   "execution_count": 34,
   "id": "df545f1f-c6d0-4353-90f2-a3919a702261",
   "metadata": {},
   "outputs": [
    {
     "name": "stdout",
     "output_type": "stream",
     "text": [
      "        Unnamed: 0          id  \\\n",
      "0           362773  7307679724   \n",
      "1           362712  7311833696   \n",
      "2           362722  7311441996   \n",
      "3           362771  7307680715   \n",
      "4           362710  7311834578   \n",
      "...            ...         ...   \n",
      "426875      303849  7307070484   \n",
      "426876      303706  7314635557   \n",
      "426877      303704  7314710341   \n",
      "426878      303670  7316225330   \n",
      "426879      303836  7308192431   \n",
      "\n",
      "                                                      url  \\\n",
      "0       https://abilene.craigslist.org/ctd/d/abilene-2...   \n",
      "1       https://abilene.craigslist.org/ctd/d/abilene-2...   \n",
      "2       https://abilene.craigslist.org/ctd/d/abilene-2...   \n",
      "3       https://abilene.craigslist.org/ctd/d/abilene-2...   \n",
      "4       https://abilene.craigslist.org/ctd/d/abilene-2...   \n",
      "...                                                   ...   \n",
      "426875  https://zanesville.craigslist.org/cto/d/zanesv...   \n",
      "426876  https://zanesville.craigslist.org/cto/d/zanesv...   \n",
      "426877  https://zanesville.craigslist.org/cto/d/zanesv...   \n",
      "426878  https://zanesville.craigslist.org/cto/d/zanesv...   \n",
      "426879  https://zanesville.craigslist.org/cto/d/zanesv...   \n",
      "\n",
      "                        region                         region_url  price  \\\n",
      "0                      abilene     https://abilene.craigslist.org   4500   \n",
      "1                      abilene     https://abilene.craigslist.org   4500   \n",
      "2                      abilene     https://abilene.craigslist.org   4900   \n",
      "3                      abilene     https://abilene.craigslist.org   6500   \n",
      "4                      abilene     https://abilene.craigslist.org   6500   \n",
      "...                        ...                                ...    ...   \n",
      "426875  zanesville / cambridge  https://zanesville.craigslist.org   5100   \n",
      "426876  zanesville / cambridge  https://zanesville.craigslist.org   7500   \n",
      "426877  zanesville / cambridge  https://zanesville.craigslist.org  25000   \n",
      "426878  zanesville / cambridge  https://zanesville.craigslist.org      6   \n",
      "426879  zanesville / cambridge  https://zanesville.craigslist.org   9795   \n",
      "\n",
      "          year manufacturer            model  condition  ...   type  \\\n",
      "0       2002.0          bmw               x5       good  ...  sedan   \n",
      "1       2002.0          bmw               x5       good  ...  sedan   \n",
      "2       2006.0       toyota            camry  excellent  ...  sedan   \n",
      "3       2008.0         ford       expedition       good  ...  sedan   \n",
      "4       2008.0         ford       expedition       good  ...  sedan   \n",
      "...        ...          ...              ...        ...  ...    ...   \n",
      "426875  2009.0         ford        saab 9-7x       fair  ...    SUV   \n",
      "426876  2011.0         ford            f-450       good  ...    bus   \n",
      "426877  2016.0    chevrolet        silverado  excellent  ...  truck   \n",
      "426878  1986.0         ford  camaro iroc z28       good  ...  sedan   \n",
      "426879  1999.0        dodge          durango   like new  ...    SUV   \n",
      "\n",
      "       paint_color                                          image_url  \\\n",
      "0            white  https://images.craigslist.org/00m0m_iba78h8ty9...   \n",
      "1            white  https://images.craigslist.org/00m0m_iba78h8ty9...   \n",
      "2           silver  https://images.craigslist.org/00808_5FkOw2aGjA...   \n",
      "3            white  https://images.craigslist.org/00M0M_i9CoFvVq8o...   \n",
      "4            white  https://images.craigslist.org/00M0M_i9CoFvVq8o...   \n",
      "...            ...                                                ...   \n",
      "426875        grey  https://images.craigslist.org/00b0b_dsIhheG86S...   \n",
      "426876         red  https://images.craigslist.org/00b0b_8lBfNkZ6pr...   \n",
      "426877        blue  https://images.craigslist.org/00k0k_jw0Pda6LTk...   \n",
      "426878         red  https://images.craigslist.org/00Y0Y_avlrYDn7OY...   \n",
      "426879      silver  https://images.craigslist.org/00J0J_fbgDQsCgfB...   \n",
      "\n",
      "                                              description county state  \\\n",
      "0       $4,500 Cash  2002 BMW X5  8 cylinder 4.4L moto...    NaN    tx   \n",
      "1       $4,500 Cash  2002 BMW X5  8 cylinder 4.4L moto...    NaN    tx   \n",
      "2       2006 TOYOTA CAMRY LE Sedan   Ready To Upgrade ...    NaN    tx   \n",
      "3       $6500.00 2008 Ford Expedition  8 cylinder 5.4L...    NaN    tx   \n",
      "4       $6500.00 2008 Ford Expedition  8 cylinder 5.4L...    NaN    tx   \n",
      "...                                                   ...    ...   ...   \n",
      "426875  For sale: 2009 Saab 9-7x Fair condition  AWD  ...    NaN    oh   \n",
      "426876  2011 E-Ford 450 with 177k miles, 6.8 liter v-1...    NaN    oh   \n",
      "426877  2013 Silverado excellent condition. Blue in co...    NaN    oh   \n",
      "426878  1986 Iroc Z28 , T-tops , 86,500 miles , has ne...    NaN    oh   \n",
      "426879  FOR SALE LIKE NEW 1999 DODGE DURANGO, LOADED W...    NaN    oh   \n",
      "\n",
      "              lat       long              posting_date  \\\n",
      "0       32.401556 -99.884713 2021-04-16 00:00:00+00:00   \n",
      "1       32.401556 -99.884713 2021-04-24 00:00:00+00:00   \n",
      "2       32.453848 -99.787900 2021-04-23 00:00:00+00:00   \n",
      "3       32.401556 -99.884713 2021-04-16 00:00:00+00:00   \n",
      "4       32.401556 -99.884713 2021-04-24 00:00:00+00:00   \n",
      "...           ...        ...                       ...   \n",
      "426875  39.937000 -82.031500 2021-04-15 00:00:00+00:00   \n",
      "426876  39.927400 -82.004100 2021-04-30 00:00:00+00:00   \n",
      "426877  39.896865 -82.042283 2021-04-30 00:00:00+00:00   \n",
      "426878  39.938630 -82.006760 2021-05-03 00:00:00+00:00   \n",
      "426879  39.998337 -82.022885 2021-04-17 00:00:00+00:00   \n",
      "\n",
      "                    removal_date  \n",
      "0      2021-05-02 00:00:00+00:00  \n",
      "1      2021-04-28 00:00:00+00:00  \n",
      "2      2021-05-25 00:00:00+00:00  \n",
      "3      2021-04-26 00:00:00+00:00  \n",
      "4      2021-05-12 00:00:00+00:00  \n",
      "...                          ...  \n",
      "426875 2021-04-21 00:00:00+00:00  \n",
      "426876 2021-05-15 00:00:00+00:00  \n",
      "426877 2021-05-12 00:00:00+00:00  \n",
      "426878 2021-05-08 00:00:00+00:00  \n",
      "426879 2021-05-09 00:00:00+00:00  \n",
      "\n",
      "[426880 rows x 28 columns]\n"
     ]
    }
   ],
   "source": [
    "date_series = pd.Series(data['posting_date'])\n",
    "\n",
    "# Convert the series to datetime type\n",
    "date_series = pd.to_datetime(date_series)\n",
    "\n",
    "\n",
    "data['posting_date'] = date_series\n",
    "\n",
    "\n",
    "\n",
    "date_series = pd.Series(data['removal_date'])\n",
    "\n",
    "# Convert the series to datetime type\n",
    "date_series = pd.to_datetime(date_series)\n",
    "\n",
    "data['removal_date'] = date_series\n",
    "\n",
    "\n",
    "\n",
    "print(data)\n"
   ]
  },
  {
   "cell_type": "code",
   "execution_count": 35,
   "id": "32f7a343-634a-4e08-a055-03a673b6df80",
   "metadata": {},
   "outputs": [],
   "source": [
    "data.set_index('posting_date', inplace=True)"
   ]
  },
  {
   "cell_type": "code",
   "execution_count": 36,
   "id": "be390940-2a46-431f-a3d4-b6a2e0bd28b9",
   "metadata": {},
   "outputs": [
    {
     "name": "stderr",
     "output_type": "stream",
     "text": [
      "C:\\Users\\BiG\\AppData\\Local\\Temp\\ipykernel_24196\\2712075790.py:2: FutureWarning: The default value of numeric_only in DataFrame.corr is deprecated. In a future version, it will default to False. Select only valid columns or specify the value of numeric_only to silence this warning.\n",
      "  correlation_matrix = data.corr()\n"
     ]
    },
    {
     "data": {
      "image/png": "[encoded data removed]",
      "text/plain": [
       "<Figure size 800x600 with 2 Axes>"
      ]
     },
     "metadata": {},
     "output_type": "display_data"
    }
   ],
   "source": [
    "import seaborn as sns\n",
    "correlation_matrix = data.corr()\n",
    "\n",
    "# Create heatmap plot\n",
    "plt.figure(figsize=(8, 6))\n",
    "sns.heatmap(correlation_matrix, annot=True, cmap='coolwarm')\n",
    "\n",
    "# Display the plot\n",
    "plt.title('Correlation Matrix')\n",
    "plt.show()"
   ]
  },
  {
   "cell_type": "code",
   "execution_count": 37,
   "id": "48d4e638-552d-4a89-b31b-e16c6bedd04d",
   "metadata": {},
   "outputs": [
    {
     "data": {
      "text/html": [
       "<div>\n",
       "<style scoped>\n",
       "    .dataframe tbody tr th:only-of-type {\n",
       "        vertical-align: middle;\n",
       "    }\n",
       "\n",
       "    .dataframe tbody tr th {\n",
       "        vertical-align: top;\n",
       "    }\n",
       "\n",
       "    .dataframe thead th {\n",
       "        text-align: right;\n",
       "    }\n",
       "</style>\n",
       "<table border=\"1\" class=\"dataframe\">\n",
       "  <thead>\n",
       "    <tr style=\"text-align: right;\">\n",
       "      <th></th>\n",
       "      <th>Unnamed: 0</th>\n",
       "      <th>id</th>\n",
       "      <th>url</th>\n",
       "      <th>region</th>\n",
       "      <th>region_url</th>\n",
       "      <th>price</th>\n",
       "      <th>year</th>\n",
       "      <th>manufacturer</th>\n",
       "      <th>model</th>\n",
       "      <th>condition</th>\n",
       "      <th>...</th>\n",
       "      <th>drive</th>\n",
       "      <th>size</th>\n",
       "      <th>type</th>\n",
       "      <th>paint_color</th>\n",
       "      <th>image_url</th>\n",
       "      <th>description</th>\n",
       "      <th>state</th>\n",
       "      <th>lat</th>\n",
       "      <th>long</th>\n",
       "      <th>removal_date</th>\n",
       "    </tr>\n",
       "    <tr>\n",
       "      <th>posting_date</th>\n",
       "      <th></th>\n",
       "      <th></th>\n",
       "      <th></th>\n",
       "      <th></th>\n",
       "      <th></th>\n",
       "      <th></th>\n",
       "      <th></th>\n",
       "      <th></th>\n",
       "      <th></th>\n",
       "      <th></th>\n",
       "      <th></th>\n",
       "      <th></th>\n",
       "      <th></th>\n",
       "      <th></th>\n",
       "      <th></th>\n",
       "      <th></th>\n",
       "      <th></th>\n",
       "      <th></th>\n",
       "      <th></th>\n",
       "      <th></th>\n",
       "      <th></th>\n",
       "    </tr>\n",
       "  </thead>\n",
       "  <tbody>\n",
       "    <tr>\n",
       "      <th>2021-04-16 00:00:00+00:00</th>\n",
       "      <td>362773</td>\n",
       "      <td>7307679724</td>\n",
       "      <td>https://abilene.craigslist.org/ctd/d/abilene-2...</td>\n",
       "      <td>abilene</td>\n",
       "      <td>https://abilene.craigslist.org</td>\n",
       "      <td>4500</td>\n",
       "      <td>2002.0</td>\n",
       "      <td>bmw</td>\n",
       "      <td>x5</td>\n",
       "      <td>good</td>\n",
       "      <td>...</td>\n",
       "      <td>4wd</td>\n",
       "      <td>full-size</td>\n",
       "      <td>sedan</td>\n",
       "      <td>white</td>\n",
       "      <td>https://images.craigslist.org/00m0m_iba78h8ty9...</td>\n",
       "      <td>$4,500 Cash  2002 BMW X5  8 cylinder 4.4L moto...</td>\n",
       "      <td>tx</td>\n",
       "      <td>32.401556</td>\n",
       "      <td>-99.884713</td>\n",
       "      <td>2021-05-02 00:00:00+00:00</td>\n",
       "    </tr>\n",
       "    <tr>\n",
       "      <th>2021-04-24 00:00:00+00:00</th>\n",
       "      <td>362712</td>\n",
       "      <td>7311833696</td>\n",
       "      <td>https://abilene.craigslist.org/ctd/d/abilene-2...</td>\n",
       "      <td>abilene</td>\n",
       "      <td>https://abilene.craigslist.org</td>\n",
       "      <td>4500</td>\n",
       "      <td>2002.0</td>\n",
       "      <td>bmw</td>\n",
       "      <td>x5</td>\n",
       "      <td>good</td>\n",
       "      <td>...</td>\n",
       "      <td>4wd</td>\n",
       "      <td>full-size</td>\n",
       "      <td>sedan</td>\n",
       "      <td>white</td>\n",
       "      <td>https://images.craigslist.org/00m0m_iba78h8ty9...</td>\n",
       "      <td>$4,500 Cash  2002 BMW X5  8 cylinder 4.4L moto...</td>\n",
       "      <td>tx</td>\n",
       "      <td>32.401556</td>\n",
       "      <td>-99.884713</td>\n",
       "      <td>2021-04-28 00:00:00+00:00</td>\n",
       "    </tr>\n",
       "    <tr>\n",
       "      <th>2021-04-23 00:00:00+00:00</th>\n",
       "      <td>362722</td>\n",
       "      <td>7311441996</td>\n",
       "      <td>https://abilene.craigslist.org/ctd/d/abilene-2...</td>\n",
       "      <td>abilene</td>\n",
       "      <td>https://abilene.craigslist.org</td>\n",
       "      <td>4900</td>\n",
       "      <td>2006.0</td>\n",
       "      <td>toyota</td>\n",
       "      <td>camry</td>\n",
       "      <td>excellent</td>\n",
       "      <td>...</td>\n",
       "      <td>fwd</td>\n",
       "      <td>full-size</td>\n",
       "      <td>sedan</td>\n",
       "      <td>silver</td>\n",
       "      <td>https://images.craigslist.org/00808_5FkOw2aGjA...</td>\n",
       "      <td>2006 TOYOTA CAMRY LE Sedan   Ready To Upgrade ...</td>\n",
       "      <td>tx</td>\n",
       "      <td>32.453848</td>\n",
       "      <td>-99.787900</td>\n",
       "      <td>2021-05-25 00:00:00+00:00</td>\n",
       "    </tr>\n",
       "    <tr>\n",
       "      <th>2021-04-16 00:00:00+00:00</th>\n",
       "      <td>362771</td>\n",
       "      <td>7307680715</td>\n",
       "      <td>https://abilene.craigslist.org/ctd/d/abilene-2...</td>\n",
       "      <td>abilene</td>\n",
       "      <td>https://abilene.craigslist.org</td>\n",
       "      <td>6500</td>\n",
       "      <td>2008.0</td>\n",
       "      <td>ford</td>\n",
       "      <td>expedition</td>\n",
       "      <td>good</td>\n",
       "      <td>...</td>\n",
       "      <td>4wd</td>\n",
       "      <td>full-size</td>\n",
       "      <td>sedan</td>\n",
       "      <td>white</td>\n",
       "      <td>https://images.craigslist.org/00M0M_i9CoFvVq8o...</td>\n",
       "      <td>$6500.00 2008 Ford Expedition  8 cylinder 5.4L...</td>\n",
       "      <td>tx</td>\n",
       "      <td>32.401556</td>\n",
       "      <td>-99.884713</td>\n",
       "      <td>2021-04-26 00:00:00+00:00</td>\n",
       "    </tr>\n",
       "    <tr>\n",
       "      <th>2021-04-24 00:00:00+00:00</th>\n",
       "      <td>362710</td>\n",
       "      <td>7311834578</td>\n",
       "      <td>https://abilene.craigslist.org/ctd/d/abilene-2...</td>\n",
       "      <td>abilene</td>\n",
       "      <td>https://abilene.craigslist.org</td>\n",
       "      <td>6500</td>\n",
       "      <td>2008.0</td>\n",
       "      <td>ford</td>\n",
       "      <td>expedition</td>\n",
       "      <td>good</td>\n",
       "      <td>...</td>\n",
       "      <td>4wd</td>\n",
       "      <td>full-size</td>\n",
       "      <td>sedan</td>\n",
       "      <td>white</td>\n",
       "      <td>https://images.craigslist.org/00M0M_i9CoFvVq8o...</td>\n",
       "      <td>$6500.00 2008 Ford Expedition  8 cylinder 5.4L...</td>\n",
       "      <td>tx</td>\n",
       "      <td>32.401556</td>\n",
       "      <td>-99.884713</td>\n",
       "      <td>2021-05-12 00:00:00+00:00</td>\n",
       "    </tr>\n",
       "    <tr>\n",
       "      <th>...</th>\n",
       "      <td>...</td>\n",
       "      <td>...</td>\n",
       "      <td>...</td>\n",
       "      <td>...</td>\n",
       "      <td>...</td>\n",
       "      <td>...</td>\n",
       "      <td>...</td>\n",
       "      <td>...</td>\n",
       "      <td>...</td>\n",
       "      <td>...</td>\n",
       "      <td>...</td>\n",
       "      <td>...</td>\n",
       "      <td>...</td>\n",
       "      <td>...</td>\n",
       "      <td>...</td>\n",
       "      <td>...</td>\n",
       "      <td>...</td>\n",
       "      <td>...</td>\n",
       "      <td>...</td>\n",
       "      <td>...</td>\n",
       "      <td>...</td>\n",
       "    </tr>\n",
       "    <tr>\n",
       "      <th>2021-04-15 00:00:00+00:00</th>\n",
       "      <td>303849</td>\n",
       "      <td>7307070484</td>\n",
       "      <td>https://zanesville.craigslist.org/cto/d/zanesv...</td>\n",
       "      <td>zanesville / cambridge</td>\n",
       "      <td>https://zanesville.craigslist.org</td>\n",
       "      <td>5100</td>\n",
       "      <td>2009.0</td>\n",
       "      <td>ford</td>\n",
       "      <td>saab 9-7x</td>\n",
       "      <td>fair</td>\n",
       "      <td>...</td>\n",
       "      <td>4wd</td>\n",
       "      <td>mid-size</td>\n",
       "      <td>SUV</td>\n",
       "      <td>grey</td>\n",
       "      <td>https://images.craigslist.org/00b0b_dsIhheG86S...</td>\n",
       "      <td>For sale: 2009 Saab 9-7x Fair condition  AWD  ...</td>\n",
       "      <td>oh</td>\n",
       "      <td>39.937000</td>\n",
       "      <td>-82.031500</td>\n",
       "      <td>2021-04-21 00:00:00+00:00</td>\n",
       "    </tr>\n",
       "    <tr>\n",
       "      <th>2021-04-30 00:00:00+00:00</th>\n",
       "      <td>303706</td>\n",
       "      <td>7314635557</td>\n",
       "      <td>https://zanesville.craigslist.org/cto/d/zanesv...</td>\n",
       "      <td>zanesville / cambridge</td>\n",
       "      <td>https://zanesville.craigslist.org</td>\n",
       "      <td>7500</td>\n",
       "      <td>2011.0</td>\n",
       "      <td>ford</td>\n",
       "      <td>f-450</td>\n",
       "      <td>good</td>\n",
       "      <td>...</td>\n",
       "      <td>4wd</td>\n",
       "      <td>full-size</td>\n",
       "      <td>bus</td>\n",
       "      <td>red</td>\n",
       "      <td>https://images.craigslist.org/00b0b_8lBfNkZ6pr...</td>\n",
       "      <td>2011 E-Ford 450 with 177k miles, 6.8 liter v-1...</td>\n",
       "      <td>oh</td>\n",
       "      <td>39.927400</td>\n",
       "      <td>-82.004100</td>\n",
       "      <td>2021-05-15 00:00:00+00:00</td>\n",
       "    </tr>\n",
       "    <tr>\n",
       "      <th>2021-04-30 00:00:00+00:00</th>\n",
       "      <td>303704</td>\n",
       "      <td>7314710341</td>\n",
       "      <td>https://zanesville.craigslist.org/cto/d/zanesv...</td>\n",
       "      <td>zanesville / cambridge</td>\n",
       "      <td>https://zanesville.craigslist.org</td>\n",
       "      <td>25000</td>\n",
       "      <td>2016.0</td>\n",
       "      <td>chevrolet</td>\n",
       "      <td>silverado</td>\n",
       "      <td>excellent</td>\n",
       "      <td>...</td>\n",
       "      <td>4wd</td>\n",
       "      <td>full-size</td>\n",
       "      <td>truck</td>\n",
       "      <td>blue</td>\n",
       "      <td>https://images.craigslist.org/00k0k_jw0Pda6LTk...</td>\n",
       "      <td>2013 Silverado excellent condition. Blue in co...</td>\n",
       "      <td>oh</td>\n",
       "      <td>39.896865</td>\n",
       "      <td>-82.042283</td>\n",
       "      <td>2021-05-12 00:00:00+00:00</td>\n",
       "    </tr>\n",
       "    <tr>\n",
       "      <th>2021-05-03 00:00:00+00:00</th>\n",
       "      <td>303670</td>\n",
       "      <td>7316225330</td>\n",
       "      <td>https://zanesville.craigslist.org/cto/d/zanesv...</td>\n",
       "      <td>zanesville / cambridge</td>\n",
       "      <td>https://zanesville.craigslist.org</td>\n",
       "      <td>6</td>\n",
       "      <td>1986.0</td>\n",
       "      <td>ford</td>\n",
       "      <td>camaro iroc z28</td>\n",
       "      <td>good</td>\n",
       "      <td>...</td>\n",
       "      <td>4wd</td>\n",
       "      <td>full-size</td>\n",
       "      <td>sedan</td>\n",
       "      <td>red</td>\n",
       "      <td>https://images.craigslist.org/00Y0Y_avlrYDn7OY...</td>\n",
       "      <td>1986 Iroc Z28 , T-tops , 86,500 miles , has ne...</td>\n",
       "      <td>oh</td>\n",
       "      <td>39.938630</td>\n",
       "      <td>-82.006760</td>\n",
       "      <td>2021-05-08 00:00:00+00:00</td>\n",
       "    </tr>\n",
       "    <tr>\n",
       "      <th>2021-04-17 00:00:00+00:00</th>\n",
       "      <td>303836</td>\n",
       "      <td>7308192431</td>\n",
       "      <td>https://zanesville.craigslist.org/cto/d/zanesv...</td>\n",
       "      <td>zanesville / cambridge</td>\n",
       "      <td>https://zanesville.craigslist.org</td>\n",
       "      <td>9795</td>\n",
       "      <td>1999.0</td>\n",
       "      <td>dodge</td>\n",
       "      <td>durango</td>\n",
       "      <td>like new</td>\n",
       "      <td>...</td>\n",
       "      <td>4wd</td>\n",
       "      <td>full-size</td>\n",
       "      <td>SUV</td>\n",
       "      <td>silver</td>\n",
       "      <td>https://images.craigslist.org/00J0J_fbgDQsCgfB...</td>\n",
       "      <td>FOR SALE LIKE NEW 1999 DODGE DURANGO, LOADED W...</td>\n",
       "      <td>oh</td>\n",
       "      <td>39.998337</td>\n",
       "      <td>-82.022885</td>\n",
       "      <td>2021-05-09 00:00:00+00:00</td>\n",
       "    </tr>\n",
       "  </tbody>\n",
       "</table>\n",
       "<p>426880 rows × 26 columns</p>\n",
       "</div>"
      ],
      "text/plain": [
       "                           Unnamed: 0          id  \\\n",
       "posting_date                                        \n",
       "2021-04-16 00:00:00+00:00      362773  7307679724   \n",
       "2021-04-24 00:00:00+00:00      362712  7311833696   \n",
       "2021-04-23 00:00:00+00:00      362722  7311441996   \n",
       "2021-04-16 00:00:00+00:00      362771  7307680715   \n",
       "2021-04-24 00:00:00+00:00      362710  7311834578   \n",
       "...                               ...         ...   \n",
       "2021-04-15 00:00:00+00:00      303849  7307070484   \n",
       "2021-04-30 00:00:00+00:00      303706  7314635557   \n",
       "2021-04-30 00:00:00+00:00      303704  7314710341   \n",
       "2021-05-03 00:00:00+00:00      303670  7316225330   \n",
       "2021-04-17 00:00:00+00:00      303836  7308192431   \n",
       "\n",
       "                                                                         url  \\\n",
       "posting_date                                                                   \n",
       "2021-04-16 00:00:00+00:00  https://abilene.craigslist.org/ctd/d/abilene-2...   \n",
       "2021-04-24 00:00:00+00:00  https://abilene.craigslist.org/ctd/d/abilene-2...   \n",
       "2021-04-23 00:00:00+00:00  https://abilene.craigslist.org/ctd/d/abilene-2...   \n",
       "2021-04-16 00:00:00+00:00  https://abilene.craigslist.org/ctd/d/abilene-2...   \n",
       "2021-04-24 00:00:00+00:00  https://abilene.craigslist.org/ctd/d/abilene-2...   \n",
       "...                                                                      ...   \n",
       "2021-04-15 00:00:00+00:00  https://zanesville.craigslist.org/cto/d/zanesv...   \n",
       "2021-04-30 00:00:00+00:00  https://zanesville.craigslist.org/cto/d/zanesv...   \n",
       "2021-04-30 00:00:00+00:00  https://zanesville.craigslist.org/cto/d/zanesv...   \n",
       "2021-05-03 00:00:00+00:00  https://zanesville.craigslist.org/cto/d/zanesv...   \n",
       "2021-04-17 00:00:00+00:00  https://zanesville.craigslist.org/cto/d/zanesv...   \n",
       "\n",
       "                                           region  \\\n",
       "posting_date                                        \n",
       "2021-04-16 00:00:00+00:00                 abilene   \n",
       "2021-04-24 00:00:00+00:00                 abilene   \n",
       "2021-04-23 00:00:00+00:00                 abilene   \n",
       "2021-04-16 00:00:00+00:00                 abilene   \n",
       "2021-04-24 00:00:00+00:00                 abilene   \n",
       "...                                           ...   \n",
       "2021-04-15 00:00:00+00:00  zanesville / cambridge   \n",
       "2021-04-30 00:00:00+00:00  zanesville / cambridge   \n",
       "2021-04-30 00:00:00+00:00  zanesville / cambridge   \n",
       "2021-05-03 00:00:00+00:00  zanesville / cambridge   \n",
       "2021-04-17 00:00:00+00:00  zanesville / cambridge   \n",
       "\n",
       "                                                  region_url  price    year  \\\n",
       "posting_date                                                                  \n",
       "2021-04-16 00:00:00+00:00     https://abilene.craigslist.org   4500  2002.0   \n",
       "2021-04-24 00:00:00+00:00     https://abilene.craigslist.org   4500  2002.0   \n",
       "2021-04-23 00:00:00+00:00     https://abilene.craigslist.org   4900  2006.0   \n",
       "2021-04-16 00:00:00+00:00     https://abilene.craigslist.org   6500  2008.0   \n",
       "2021-04-24 00:00:00+00:00     https://abilene.craigslist.org   6500  2008.0   \n",
       "...                                                      ...    ...     ...   \n",
       "2021-04-15 00:00:00+00:00  https://zanesville.craigslist.org   5100  2009.0   \n",
       "2021-04-30 00:00:00+00:00  https://zanesville.craigslist.org   7500  2011.0   \n",
       "2021-04-30 00:00:00+00:00  https://zanesville.craigslist.org  25000  2016.0   \n",
       "2021-05-03 00:00:00+00:00  https://zanesville.craigslist.org      6  1986.0   \n",
       "2021-04-17 00:00:00+00:00  https://zanesville.craigslist.org   9795  1999.0   \n",
       "\n",
       "                          manufacturer            model  condition  ... drive  \\\n",
       "posting_date                                                        ...         \n",
       "2021-04-16 00:00:00+00:00          bmw               x5       good  ...   4wd   \n",
       "2021-04-24 00:00:00+00:00          bmw               x5       good  ...   4wd   \n",
       "2021-04-23 00:00:00+00:00       toyota            camry  excellent  ...   fwd   \n",
       "2021-04-16 00:00:00+00:00         ford       expedition       good  ...   4wd   \n",
       "2021-04-24 00:00:00+00:00         ford       expedition       good  ...   4wd   \n",
       "...                                ...              ...        ...  ...   ...   \n",
       "2021-04-15 00:00:00+00:00         ford        saab 9-7x       fair  ...   4wd   \n",
       "2021-04-30 00:00:00+00:00         ford            f-450       good  ...   4wd   \n",
       "2021-04-30 00:00:00+00:00    chevrolet        silverado  excellent  ...   4wd   \n",
       "2021-05-03 00:00:00+00:00         ford  camaro iroc z28       good  ...   4wd   \n",
       "2021-04-17 00:00:00+00:00        dodge          durango   like new  ...   4wd   \n",
       "\n",
       "                                size   type paint_color  \\\n",
       "posting_date                                              \n",
       "2021-04-16 00:00:00+00:00  full-size  sedan       white   \n",
       "2021-04-24 00:00:00+00:00  full-size  sedan       white   \n",
       "2021-04-23 00:00:00+00:00  full-size  sedan      silver   \n",
       "2021-04-16 00:00:00+00:00  full-size  sedan       white   \n",
       "2021-04-24 00:00:00+00:00  full-size  sedan       white   \n",
       "...                              ...    ...         ...   \n",
       "2021-04-15 00:00:00+00:00   mid-size    SUV        grey   \n",
       "2021-04-30 00:00:00+00:00  full-size    bus         red   \n",
       "2021-04-30 00:00:00+00:00  full-size  truck        blue   \n",
       "2021-05-03 00:00:00+00:00  full-size  sedan         red   \n",
       "2021-04-17 00:00:00+00:00  full-size    SUV      silver   \n",
       "\n",
       "                                                                   image_url  \\\n",
       "posting_date                                                                   \n",
       "2021-04-16 00:00:00+00:00  https://images.craigslist.org/00m0m_iba78h8ty9...   \n",
       "2021-04-24 00:00:00+00:00  https://images.craigslist.org/00m0m_iba78h8ty9...   \n",
       "2021-04-23 00:00:00+00:00  https://images.craigslist.org/00808_5FkOw2aGjA...   \n",
       "2021-04-16 00:00:00+00:00  https://images.craigslist.org/00M0M_i9CoFvVq8o...   \n",
       "2021-04-24 00:00:00+00:00  https://images.craigslist.org/00M0M_i9CoFvVq8o...   \n",
       "...                                                                      ...   \n",
       "2021-04-15 00:00:00+00:00  https://images.craigslist.org/00b0b_dsIhheG86S...   \n",
       "2021-04-30 00:00:00+00:00  https://images.craigslist.org/00b0b_8lBfNkZ6pr...   \n",
       "2021-04-30 00:00:00+00:00  https://images.craigslist.org/00k0k_jw0Pda6LTk...   \n",
       "2021-05-03 00:00:00+00:00  https://images.craigslist.org/00Y0Y_avlrYDn7OY...   \n",
       "2021-04-17 00:00:00+00:00  https://images.craigslist.org/00J0J_fbgDQsCgfB...   \n",
       "\n",
       "                                                                 description  \\\n",
       "posting_date                                                                   \n",
       "2021-04-16 00:00:00+00:00  $4,500 Cash  2002 BMW X5  8 cylinder 4.4L moto...   \n",
       "2021-04-24 00:00:00+00:00  $4,500 Cash  2002 BMW X5  8 cylinder 4.4L moto...   \n",
       "2021-04-23 00:00:00+00:00  2006 TOYOTA CAMRY LE Sedan   Ready To Upgrade ...   \n",
       "2021-04-16 00:00:00+00:00  $6500.00 2008 Ford Expedition  8 cylinder 5.4L...   \n",
       "2021-04-24 00:00:00+00:00  $6500.00 2008 Ford Expedition  8 cylinder 5.4L...   \n",
       "...                                                                      ...   \n",
       "2021-04-15 00:00:00+00:00  For sale: 2009 Saab 9-7x Fair condition  AWD  ...   \n",
       "2021-04-30 00:00:00+00:00  2011 E-Ford 450 with 177k miles, 6.8 liter v-1...   \n",
       "2021-04-30 00:00:00+00:00  2013 Silverado excellent condition. Blue in co...   \n",
       "2021-05-03 00:00:00+00:00  1986 Iroc Z28 , T-tops , 86,500 miles , has ne...   \n",
       "2021-04-17 00:00:00+00:00  FOR SALE LIKE NEW 1999 DODGE DURANGO, LOADED W...   \n",
       "\n",
       "                          state        lat       long  \\\n",
       "posting_date                                            \n",
       "2021-04-16 00:00:00+00:00    tx  32.401556 -99.884713   \n",
       "2021-04-24 00:00:00+00:00    tx  32.401556 -99.884713   \n",
       "2021-04-23 00:00:00+00:00    tx  32.453848 -99.787900   \n",
       "2021-04-16 00:00:00+00:00    tx  32.401556 -99.884713   \n",
       "2021-04-24 00:00:00+00:00    tx  32.401556 -99.884713   \n",
       "...                         ...        ...        ...   \n",
       "2021-04-15 00:00:00+00:00    oh  39.937000 -82.031500   \n",
       "2021-04-30 00:00:00+00:00    oh  39.927400 -82.004100   \n",
       "2021-04-30 00:00:00+00:00    oh  39.896865 -82.042283   \n",
       "2021-05-03 00:00:00+00:00    oh  39.938630 -82.006760   \n",
       "2021-04-17 00:00:00+00:00    oh  39.998337 -82.022885   \n",
       "\n",
       "                                       removal_date  \n",
       "posting_date                                         \n",
       "2021-04-16 00:00:00+00:00 2021-05-02 00:00:00+00:00  \n",
       "2021-04-24 00:00:00+00:00 2021-04-28 00:00:00+00:00  \n",
       "2021-04-23 00:00:00+00:00 2021-05-25 00:00:00+00:00  \n",
       "2021-04-16 00:00:00+00:00 2021-04-26 00:00:00+00:00  \n",
       "2021-04-24 00:00:00+00:00 2021-05-12 00:00:00+00:00  \n",
       "...                                             ...  \n",
       "2021-04-15 00:00:00+00:00 2021-04-21 00:00:00+00:00  \n",
       "2021-04-30 00:00:00+00:00 2021-05-15 00:00:00+00:00  \n",
       "2021-04-30 00:00:00+00:00 2021-05-12 00:00:00+00:00  \n",
       "2021-05-03 00:00:00+00:00 2021-05-08 00:00:00+00:00  \n",
       "2021-04-17 00:00:00+00:00 2021-05-09 00:00:00+00:00  \n",
       "\n",
       "[426880 rows x 26 columns]"
      ]
     },
     "execution_count": 37,
     "metadata": {},
     "output_type": "execute_result"
    }
   ],
   "source": [
    "data = data.drop('county', axis=1)\n",
    "data"
   ]
  },
  {
   "cell_type": "code",
   "execution_count": 38,
   "id": "d4a70523-3388-49fc-8ced-5ad06acebf57",
   "metadata": {},
   "outputs": [
    {
     "name": "stdout",
     "output_type": "stream",
     "text": [
      "<class 'pandas.core.frame.DataFrame'>\n",
      "DatetimeIndex: 426880 entries, 2021-04-16 00:00:00+00:00 to 2021-04-17 00:00:00+00:00\n",
      "Data columns (total 26 columns):\n",
      " #   Column        Non-Null Count   Dtype              \n",
      "---  ------        --------------   -----              \n",
      " 0   Unnamed: 0    426880 non-null  int64              \n",
      " 1   id            426880 non-null  int64              \n",
      " 2   url           426880 non-null  object             \n",
      " 3   region        426880 non-null  object             \n",
      " 4   region_url    426880 non-null  object             \n",
      " 5   price         426880 non-null  int64              \n",
      " 6   year          426880 non-null  float64            \n",
      " 7   manufacturer  426880 non-null  object             \n",
      " 8   model         426880 non-null  object             \n",
      " 9   condition     426880 non-null  object             \n",
      " 10  cylinders     426880 non-null  object             \n",
      " 11  fuel          426880 non-null  object             \n",
      " 12  odometer      426880 non-null  object             \n",
      " 13  title_status  426880 non-null  object             \n",
      " 14  transmission  426880 non-null  object             \n",
      " 15  VIN           426880 non-null  object             \n",
      " 16  drive         426880 non-null  object             \n",
      " 17  size          426880 non-null  object             \n",
      " 18  type          426880 non-null  object             \n",
      " 19  paint_color   426880 non-null  object             \n",
      " 20  image_url     426880 non-null  object             \n",
      " 21  description   426880 non-null  object             \n",
      " 22  state         426880 non-null  object             \n",
      " 23  lat           426880 non-null  float64            \n",
      " 24  long          426880 non-null  float64            \n",
      " 25  removal_date  426880 non-null  datetime64[ns, UTC]\n",
      "dtypes: datetime64[ns, UTC](1), float64(3), int64(3), object(19)\n",
      "memory usage: 87.9+ MB\n"
     ]
    }
   ],
   "source": [
    "data.info()"
   ]
  },
  {
   "cell_type": "code",
   "execution_count": 45,
   "id": "f3d5c8f6-67f6-44a2-bd2e-fd6fd99e0514",
   "metadata": {},
   "outputs": [
    {
     "data": {
      "image/png": "[encoded data removed]",
      "text/plain": [
       "<Figure size 1000x600 with 1 Axes>"
      ]
     },
     "metadata": {},
     "output_type": "display_data"
    }
   ],
   "source": [
    "import re\n",
    "\n",
    "# Remove non-numeric characters from 'odometer' column\n",
    "data['odometer'] = data['odometer'].apply(lambda x: re.sub('[^\\d.]', '', str(x)))\n",
    "\n",
    "# Convert 'odometer' column to float type\n",
    "data['odometer'] = data['odometer'].astype(float)\n",
    "\n",
    "# Scatter Plot: Price vs. Odometer\n",
    "plt.figure(figsize=(10, 6))\n",
    "sns.scatterplot(x='odometer', y='price', data=data)\n",
    "plt.title('Price vs. Odometer')\n",
    "plt.xlabel('Odometer')\n",
    "plt.ylabel('Price')\n",
    "plt.show()"
   ]
  },
  {
   "cell_type": "code",
   "execution_count": 41,
   "id": "44275168-1a9d-467f-81af-da806fd65c41",
   "metadata": {},
   "outputs": [
    {
     "data": {
      "image/png": "[encoded data removed]",
      "text/plain": [
       "<Figure size 1000x600 with 1 Axes>"
      ]
     },
     "metadata": {},
     "output_type": "display_data"
    }
   ],
   "source": [
    "# Bar Plot: Manufacturer Counts\n",
    "plt.figure(figsize=(10, 6))\n",
    "manufacturer_counts = data['manufacturer'].value_counts().nlargest(10)\n",
    "sns.barplot(x=manufacturer_counts.index, y=manufacturer_counts.values)\n",
    "plt.title('Top 10 Manufacturers')\n",
    "plt.xlabel('Manufacturer')\n",
    "plt.ylabel('Count')\n",
    "plt.xticks(rotation=45)\n",
    "plt.show()"
   ]
  },
  {
   "cell_type": "code",
   "execution_count": 42,
   "id": "25bf94a0-c849-4148-b74f-c35451953cc5",
   "metadata": {},
   "outputs": [
    {
     "data": {
      "image/png": "[encoded data removed]",
      "text/plain": [
       "<Figure size 1000x600 with 1 Axes>"
      ]
     },
     "metadata": {},
     "output_type": "display_data"
    }
   ],
   "source": [
    "# Box Plot: Price by Condition\n",
    "plt.figure(figsize=(10, 6))\n",
    "sns.boxplot(x='condition', y='price', data=data)\n",
    "plt.title('Price by Condition')\n",
    "plt.xlabel('Condition')\n",
    "plt.ylabel('Price')\n",
    "plt.xticks(rotation=45)\n",
    "plt.show()"
   ]
  },
  {
   "cell_type": "code",
   "execution_count": 44,
   "id": "49251b25-15c2-4828-92ef-3748dd587894",
   "metadata": {},
   "outputs": [
    {
     "name": "stderr",
     "output_type": "stream",
     "text": [
      "C:\\Users\\BiG\\AppData\\Local\\Temp\\ipykernel_24196\\2146095319.py:3: FutureWarning: The default value of numeric_only in DataFrame.corr is deprecated. In a future version, it will default to False. Select only valid columns or specify the value of numeric_only to silence this warning.\n",
      "  correlation_matrix = data[['price', 'year', 'odometer']].corr()\n"
     ]
    },
    {
     "data": {
      "image/png": "[encoded data removed]",
      "text/plain": [
       "<Figure size 800x600 with 2 Axes>"
      ]
     },
     "metadata": {},
     "output_type": "display_data"
    },
    {
     "name": "stdout",
     "output_type": "stream",
     "text": [
      "manufacturer\n",
      "mercedes-benz      531710.557333\n",
      "volvo              383755.147896\n",
      "toyota             234294.682621\n",
      "jeep               150717.819659\n",
      "chevrolet          115676.101645\n",
      "ferrari            107438.736842\n",
      "aston-martin        53494.541667\n",
      "tesla               38354.456221\n",
      "buick               36784.954736\n",
      "ford                35836.026796\n",
      "porsche             31946.061416\n",
      "gmc                 30405.877152\n",
      "alfa-romeo          28237.348941\n",
      "ram                 27728.339167\n",
      "rover               27182.898722\n",
      "bmw                 26740.261446\n",
      "jaguar              26549.176259\n",
      "audi                23574.849993\n",
      "acura               19842.869522\n",
      "lincoln             19802.274645\n",
      "infiniti            19561.849229\n",
      "cadillac            19439.520926\n",
      "lexus               19206.152683\n",
      "nissan              18827.332826\n",
      "datsun              15149.666667\n",
      "dodge               15003.200554\n",
      "mini                14163.474747\n",
      "mitsubishi          13743.070778\n",
      "morgan              13100.000000\n",
      "subaru              13055.512586\n",
      "volkswagen          12537.098769\n",
      "mazda               12345.607702\n",
      "harley-davidson     12129.790850\n",
      "fiat                11890.517677\n",
      "kia                 11083.324820\n",
      "honda               10751.363722\n",
      "hyundai             10719.659412\n",
      "chrysler            10442.946609\n",
      "pontiac              8176.903409\n",
      "land rover           7911.095238\n",
      "saturn               6881.734862\n",
      "mercury              5482.536318\n",
      "Name: price, dtype: float64\n"
     ]
    }
   ],
   "source": [
    "# Statistical Analysis\n",
    "# Correlation Analysis\n",
    "correlation_matrix = data[['price', 'year', 'odometer']].corr()\n",
    "\n",
    "\n",
    "# Create heatmap plot\n",
    "plt.figure(figsize=(8, 6))\n",
    "sns.heatmap(correlation_matrix, annot=True, cmap='coolwarm')\n",
    "\n",
    "# Display the plot\n",
    "plt.title('Correlation Matrix')\n",
    "plt.show()\n",
    "\n",
    "# Grouping and Aggregation: Average Price by Manufacturer\n",
    "average_price_by_manufacturer = data.groupby('manufacturer')['price'].mean().sort_values(ascending=False)\n",
    "print(average_price_by_manufacturer)"
   ]
  },
  {
   "cell_type": "code",
   "execution_count": 48,
   "id": "f8ac50cd-ef62-4248-9afb-b105a79df516",
   "metadata": {},
   "outputs": [
    {
     "data": {
      "application/vnd.plotly.v1+json": {
       "config": {
        "plotlyServerURL": "https://plot.ly"
       },
       "data": [
        {
         "marker": {
          "color": [
           "rgb(102, 197, 204)",
           "rgb(246, 207, 113)",
           "rgb(248, 156, 116)",
           "rgb(220, 176, 242)",
           "rgb(135, 197, 95)",
           "rgb(158, 185, 243)",
           "rgb(254, 136, 177)",
           "rgb(201, 219, 116)"
          ],
          "line": {
           "color": "rgb(8, 48, 107)",
           "width": 1.5
          }
         },
         "opacity": 0.6,
         "type": "bar",
         "x": [
          "6 cylinders",
          "4 cylinders",
          "8 cylinders",
          "5 cylinders",
          "10 cylinders",
          "other",
          "3 cylinders",
          "12 cylinders"
         ],
         "y": [
          271847,
          77642,
          72062,
          1712,
          1455,
          1298,
          655,
          209
         ]
        }
       ],
       "layout": {
        "autosize": true,
        "showlegend": false,
        "template": {
         "data": {
          "bar": [
           {
            "error_x": {
             "color": "#2a3f5f"
            },
            "error_y": {
             "color": "#2a3f5f"
            },
            "marker": {
             "line": {
              "color": "#E5ECF6",
              "width": 0.5
             },
             "pattern": {
              "fillmode": "overlay",
              "size": 10,
              "solidity": 0.2
             }
            },
            "type": "bar"
           }
          ],
          "barpolar": [
           {
            "marker": {
             "line": {
              "color": "#E5ECF6",
              "width": 0.5
             },
             "pattern": {
              "fillmode": "overlay",
              "size": 10,
              "solidity": 0.2
             }
            },
            "type": "barpolar"
           }
          ],
          "carpet": [
           {
            "aaxis": {
             "endlinecolor": "#2a3f5f",
             "gridcolor": "white",
             "linecolor": "white",
             "minorgridcolor": "white",
             "startlinecolor": "#2a3f5f"
            },
            "baxis": {
             "endlinecolor": "#2a3f5f",
             "gridcolor": "white",
             "linecolor": "white",
             "minorgridcolor": "white",
             "startlinecolor": "#2a3f5f"
            },
            "type": "carpet"
           }
          ],
          "choropleth": [
           {
            "colorbar": {
             "outlinewidth": 0,
             "ticks": ""
            },
            "type": "choropleth"
           }
          ],
          "contour": [
           {
            "colorbar": {
             "outlinewidth": 0,
             "ticks": ""
            },
            "colorscale": [
             [
              0,
              "#0d0887"
             ],
             [
              0.1111111111111111,
              "#46039f"
             ],
             [
              0.2222222222222222,
              "#7201a8"
             ],
             [
              0.3333333333333333,
              "#9c179e"
             ],
             [
              0.4444444444444444,
              "#bd3786"
             ],
             [
              0.5555555555555556,
              "#d8576b"
             ],
             [
              0.6666666666666666,
              "#ed7953"
             ],
             [
              0.7777777777777778,
              "#fb9f3a"
             ],
             [
              0.8888888888888888,
              "#fdca26"
             ],
             [
              1,
              "#f0f921"
             ]
            ],
            "type": "contour"
           }
          ],
          "contourcarpet": [
           {
            "colorbar": {
             "outlinewidth": 0,
             "ticks": ""
            },
            "type": "contourcarpet"
           }
          ],
          "heatmap": [
           {
            "colorbar": {
             "outlinewidth": 0,
             "ticks": ""
            },
            "colorscale": [
             [
              0,
              "#0d0887"
             ],
             [
              0.1111111111111111,
              "#46039f"
             ],
             [
              0.2222222222222222,
              "#7201a8"
             ],
             [
              0.3333333333333333,
              "#9c179e"
             ],
             [
              0.4444444444444444,
              "#bd3786"
             ],
             [
              0.5555555555555556,
              "#d8576b"
             ],
             [
              0.6666666666666666,
              "#ed7953"
             ],
             [
              0.7777777777777778,
              "#fb9f3a"
             ],
             [
              0.8888888888888888,
              "#fdca26"
             ],
             [
              1,
              "#f0f921"
             ]
            ],
            "type": "heatmap"
           }
          ],
          "heatmapgl": [
           {
            "colorbar": {
             "outlinewidth": 0,
             "ticks": ""
            },
            "colorscale": [
             [
              0,
              "#0d0887"
             ],
             [
              0.1111111111111111,
              "#46039f"
             ],
             [
              0.2222222222222222,
              "#7201a8"
             ],
             [
              0.3333333333333333,
              "#9c179e"
             ],
             [
              0.4444444444444444,
              "#bd3786"
             ],
             [
              0.5555555555555556,
              "#d8576b"
             ],
             [
              0.6666666666666666,
              "#ed7953"
             ],
             [
              0.7777777777777778,
              "#fb9f3a"
             ],
             [
              0.8888888888888888,
              "#fdca26"
             ],
             [
              1,
              "#f0f921"
             ]
            ],
            "type": "heatmapgl"
           }
          ],
          "histogram": [
           {
            "marker": {
             "pattern": {
              "fillmode": "overlay",
              "size": 10,
              "solidity": 0.2
             }
            },
            "type": "histogram"
           }
          ],
          "histogram2d": [
           {
            "colorbar": {
             "outlinewidth": 0,
             "ticks": ""
            },
            "colorscale": [
             [
              0,
              "#0d0887"
             ],
             [
              0.1111111111111111,
              "#46039f"
             ],
             [
              0.2222222222222222,
              "#7201a8"
             ],
             [
              0.3333333333333333,
              "#9c179e"
             ],
             [
              0.4444444444444444,
              "#bd3786"
             ],
             [
              0.5555555555555556,
              "#d8576b"
             ],
             [
              0.6666666666666666,
              "#ed7953"
             ],
             [
              0.7777777777777778,
              "#fb9f3a"
             ],
             [
              0.8888888888888888,
              "#fdca26"
             ],
             [
              1,
              "#f0f921"
             ]
            ],
            "type": "histogram2d"
           }
          ],
          "histogram2dcontour": [
           {
            "colorbar": {
             "outlinewidth": 0,
             "ticks": ""
            },
            "colorscale": [
             [
              0,
              "#0d0887"
             ],
             [
              0.1111111111111111,
              "#46039f"
             ],
             [
              0.2222222222222222,
              "#7201a8"
             ],
             [
              0.3333333333333333,
              "#9c179e"
             ],
             [
              0.4444444444444444,
              "#bd3786"
             ],
             [
              0.5555555555555556,
              "#d8576b"
             ],
             [
              0.6666666666666666,
              "#ed7953"
             ],
             [
              0.7777777777777778,
              "#fb9f3a"
             ],
             [
              0.8888888888888888,
              "#fdca26"
             ],
             [
              1,
              "#f0f921"
             ]
            ],
            "type": "histogram2dcontour"
           }
          ],
          "mesh3d": [
           {
            "colorbar": {
             "outlinewidth": 0,
             "ticks": ""
            },
            "type": "mesh3d"
           }
          ],
          "parcoords": [
           {
            "line": {
             "colorbar": {
              "outlinewidth": 0,
              "ticks": ""
             }
            },
            "type": "parcoords"
           }
          ],
          "pie": [
           {
            "automargin": true,
            "type": "pie"
           }
          ],
          "scatter": [
           {
            "fillpattern": {
             "fillmode": "overlay",
             "size": 10,
             "solidity": 0.2
            },
            "type": "scatter"
           }
          ],
          "scatter3d": [
           {
            "line": {
             "colorbar": {
              "outlinewidth": 0,
              "ticks": ""
             }
            },
            "marker": {
             "colorbar": {
              "outlinewidth": 0,
              "ticks": ""
             }
            },
            "type": "scatter3d"
           }
          ],
          "scattercarpet": [
           {
            "marker": {
             "colorbar": {
              "outlinewidth": 0,
              "ticks": ""
             }
            },
            "type": "scattercarpet"
           }
          ],
          "scattergeo": [
           {
            "marker": {
             "colorbar": {
              "outlinewidth": 0,
              "ticks": ""
             }
            },
            "type": "scattergeo"
           }
          ],
          "scattergl": [
           {
            "marker": {
             "colorbar": {
              "outlinewidth": 0,
              "ticks": ""
             }
            },
            "type": "scattergl"
           }
          ],
          "scattermapbox": [
           {
            "marker": {
             "colorbar": {
              "outlinewidth": 0,
              "ticks": ""
             }
            },
            "type": "scattermapbox"
           }
          ],
          "scatterpolar": [
           {
            "marker": {
             "colorbar": {
              "outlinewidth": 0,
              "ticks": ""
             }
            },
            "type": "scatterpolar"
           }
          ],
          "scatterpolargl": [
           {
            "marker": {
             "colorbar": {
              "outlinewidth": 0,
              "ticks": ""
             }
            },
            "type": "scatterpolargl"
           }
          ],
          "scatterternary": [
           {
            "marker": {
             "colorbar": {
              "outlinewidth": 0,
              "ticks": ""
             }
            },
            "type": "scatterternary"
           }
          ],
          "surface": [
           {
            "colorbar": {
             "outlinewidth": 0,
             "ticks": ""
            },
            "colorscale": [
             [
              0,
              "#0d0887"
             ],
             [
              0.1111111111111111,
              "#46039f"
             ],
             [
              0.2222222222222222,
              "#7201a8"
             ],
             [
              0.3333333333333333,
              "#9c179e"
             ],
             [
              0.4444444444444444,
              "#bd3786"
             ],
             [
              0.5555555555555556,
              "#d8576b"
             ],
             [
              0.6666666666666666,
              "#ed7953"
             ],
             [
              0.7777777777777778,
              "#fb9f3a"
             ],
             [
              0.8888888888888888,
              "#fdca26"
             ],
             [
              1,
              "#f0f921"
             ]
            ],
            "type": "surface"
           }
          ],
          "table": [
           {
            "cells": {
             "fill": {
              "color": "#EBF0F8"
             },
             "line": {
              "color": "white"
             }
            },
            "header": {
             "fill": {
              "color": "#C8D4E3"
             },
             "line": {
              "color": "white"
             }
            },
            "type": "table"
           }
          ]
         },
         "layout": {
          "annotationdefaults": {
           "arrowcolor": "#2a3f5f",
           "arrowhead": 0,
           "arrowwidth": 1
          },
          "autotypenumbers": "strict",
          "coloraxis": {
           "colorbar": {
            "outlinewidth": 0,
            "ticks": ""
           }
          },
          "colorscale": {
           "diverging": [
            [
             0,
             "#8e0152"
            ],
            [
             0.1,
             "#c51b7d"
            ],
            [
             0.2,
             "#de77ae"
            ],
            [
             0.3,
             "#f1b6da"
            ],
            [
             0.4,
             "#fde0ef"
            ],
            [
             0.5,
             "#f7f7f7"
            ],
            [
             0.6,
             "#e6f5d0"
            ],
            [
             0.7,
             "#b8e186"
            ],
            [
             0.8,
             "#7fbc41"
            ],
            [
             0.9,
             "#4d9221"
            ],
            [
             1,
             "#276419"
            ]
           ],
           "sequential": [
            [
             0,
             "#0d0887"
            ],
            [
             0.1111111111111111,
             "#46039f"
            ],
            [
             0.2222222222222222,
             "#7201a8"
            ],
            [
             0.3333333333333333,
             "#9c179e"
            ],
            [
             0.4444444444444444,
             "#bd3786"
            ],
            [
             0.5555555555555556,
             "#d8576b"
            ],
            [
             0.6666666666666666,
             "#ed7953"
            ],
            [
             0.7777777777777778,
             "#fb9f3a"
            ],
            [
             0.8888888888888888,
             "#fdca26"
            ],
            [
             1,
             "#f0f921"
            ]
           ],
           "sequentialminus": [
            [
             0,
             "#0d0887"
            ],
            [
             0.1111111111111111,
             "#46039f"
            ],
            [
             0.2222222222222222,
             "#7201a8"
            ],
            [
             0.3333333333333333,
             "#9c179e"
            ],
            [
             0.4444444444444444,
             "#bd3786"
            ],
            [
             0.5555555555555556,
             "#d8576b"
            ],
            [
             0.6666666666666666,
             "#ed7953"
            ],
            [
             0.7777777777777778,
             "#fb9f3a"
            ],
            [
             0.8888888888888888,
             "#fdca26"
            ],
            [
             1,
             "#f0f921"
            ]
           ]
          },
          "colorway": [
           "#636efa",
           "#EF553B",
           "#00cc96",
           "#ab63fa",
           "#FFA15A",
           "#19d3f3",
           "#FF6692",
           "#B6E880",
           "#FF97FF",
           "#FECB52"
          ],
          "font": {
           "color": "#2a3f5f"
          },
          "geo": {
           "bgcolor": "white",
           "lakecolor": "white",
           "landcolor": "#E5ECF6",
           "showlakes": true,
           "showland": true,
           "subunitcolor": "white"
          },
          "hoverlabel": {
           "align": "left"
          },
          "hovermode": "closest",
          "mapbox": {
           "style": "light"
          },
          "paper_bgcolor": "white",
          "plot_bgcolor": "#E5ECF6",
          "polar": {
           "angularaxis": {
            "gridcolor": "white",
            "linecolor": "white",
            "ticks": ""
           },
           "bgcolor": "#E5ECF6",
           "radialaxis": {
            "gridcolor": "white",
            "linecolor": "white",
            "ticks": ""
           }
          },
          "scene": {
           "xaxis": {
            "backgroundcolor": "#E5ECF6",
            "gridcolor": "white",
            "gridwidth": 2,
            "linecolor": "white",
            "showbackground": true,
            "ticks": "",
            "zerolinecolor": "white"
           },
           "yaxis": {
            "backgroundcolor": "#E5ECF6",
            "gridcolor": "white",
            "gridwidth": 2,
            "linecolor": "white",
            "showbackground": true,
            "ticks": "",
            "zerolinecolor": "white"
           },
           "zaxis": {
            "backgroundcolor": "#E5ECF6",
            "gridcolor": "white",
            "gridwidth": 2,
            "linecolor": "white",
            "showbackground": true,
            "ticks": "",
            "zerolinecolor": "white"
           }
          },
          "shapedefaults": {
           "line": {
            "color": "#2a3f5f"
           }
          },
          "ternary": {
           "aaxis": {
            "gridcolor": "white",
            "linecolor": "white",
            "ticks": ""
           },
           "baxis": {
            "gridcolor": "white",
            "linecolor": "white",
            "ticks": ""
           },
           "bgcolor": "#E5ECF6",
           "caxis": {
            "gridcolor": "white",
            "linecolor": "white",
            "ticks": ""
           }
          },
          "title": {
           "x": 0.05
          },
          "xaxis": {
           "automargin": true,
           "gridcolor": "white",
           "linecolor": "white",
           "ticks": "",
           "title": {
            "standoff": 15
           },
           "zerolinecolor": "white",
           "zerolinewidth": 2
          },
          "yaxis": {
           "automargin": true,
           "gridcolor": "white",
           "linecolor": "white",
           "ticks": "",
           "title": {
            "standoff": 15
           },
           "zerolinecolor": "white",
           "zerolinewidth": 2
          }
         }
        },
        "title": {
         "text": "Comparison of cylinders"
        },
        "xaxis": {
         "autorange": true,
         "range": [
          -0.5,
          7.5
         ],
         "title": {
          "text": "cylinders"
         },
         "type": "category"
        },
        "yaxis": {
         "autorange": true,
         "range": [
          0,
          286154.7368421053
         ],
         "title": {
          "text": "Number"
         },
         "type": "linear"
        }
       }
      },
      "image/png": "[encoded data removed]",
      "text/html": [
       "<div>                            <div id=\"127beb96-0f6b-4274-9de5-0aca9ccd9c35\" class=\"plotly-graph-div\" style=\"height:525px; width:100%;\"></div>            <script type=\"text/javascript\">                require([\"plotly\"], function(Plotly) {                    window.PLOTLYENV=window.PLOTLYENV || {};                                    if (document.getElementById(\"127beb96-0f6b-4274-9de5-0aca9ccd9c35\")) {                    Plotly.newPlot(                        \"127beb96-0f6b-4274-9de5-0aca9ccd9c35\",                        [{\"marker\":{\"color\":[\"rgb(102, 197, 204)\",\"rgb(246, 207, 113)\",\"rgb(248, 156, 116)\",\"rgb(220, 176, 242)\",\"rgb(135, 197, 95)\",\"rgb(158, 185, 243)\",\"rgb(254, 136, 177)\",\"rgb(201, 219, 116)\"],\"line\":{\"color\":\"rgb(8, 48, 107)\",\"width\":1.5}},\"x\":[\"6 cylinders\",\"4 cylinders\",\"8 cylinders\",\"5 cylinders\",\"10 cylinders\",\"other\",\"3 cylinders\",\"12 cylinders\"],\"y\":[271847,77642,72062,1712,1455,1298,655,209],\"type\":\"bar\",\"opacity\":0.6}],                        {\"template\":{\"data\":{\"histogram2dcontour\":[{\"type\":\"histogram2dcontour\",\"colorbar\":{\"outlinewidth\":0,\"ticks\":\"\"},\"colorscale\":[[0.0,\"#0d0887\"],[0.1111111111111111,\"#46039f\"],[0.2222222222222222,\"#7201a8\"],[0.3333333333333333,\"#9c179e\"],[0.4444444444444444,\"#bd3786\"],[0.5555555555555556,\"#d8576b\"],[0.6666666666666666,\"#ed7953\"],[0.7777777777777778,\"#fb9f3a\"],[0.8888888888888888,\"#fdca26\"],[1.0,\"#f0f921\"]]}],\"choropleth\":[{\"type\":\"choropleth\",\"colorbar\":{\"outlinewidth\":0,\"ticks\":\"\"}}],\"histogram2d\":[{\"type\":\"histogram2d\",\"colorbar\":{\"outlinewidth\":0,\"ticks\":\"\"},\"colorscale\":[[0.0,\"#0d0887\"],[0.1111111111111111,\"#46039f\"],[0.2222222222222222,\"#7201a8\"],[0.3333333333333333,\"#9c179e\"],[0.4444444444444444,\"#bd3786\"],[0.5555555555555556,\"#d8576b\"],[0.6666666666666666,\"#ed7953\"],[0.7777777777777778,\"#fb9f3a\"],[0.8888888888888888,\"#fdca26\"],[1.0,\"#f0f921\"]]}],\"heatmap\":[{\"type\":\"heatmap\",\"colorbar\":{\"outlinewidth\":0,\"ticks\":\"\"},\"colorscale\":[[0.0,\"#0d0887\"],[0.1111111111111111,\"#46039f\"],[0.2222222222222222,\"#7201a8\"],[0.3333333333333333,\"#9c179e\"],[0.4444444444444444,\"#bd3786\"],[0.5555555555555556,\"#d8576b\"],[0.6666666666666666,\"#ed7953\"],[0.7777777777777778,\"#fb9f3a\"],[0.8888888888888888,\"#fdca26\"],[1.0,\"#f0f921\"]]}],\"heatmapgl\":[{\"type\":\"heatmapgl\",\"colorbar\":{\"outlinewidth\":0,\"ticks\":\"\"},\"colorscale\":[[0.0,\"#0d0887\"],[0.1111111111111111,\"#46039f\"],[0.2222222222222222,\"#7201a8\"],[0.3333333333333333,\"#9c179e\"],[0.4444444444444444,\"#bd3786\"],[0.5555555555555556,\"#d8576b\"],[0.6666666666666666,\"#ed7953\"],[0.7777777777777778,\"#fb9f3a\"],[0.8888888888888888,\"#fdca26\"],[1.0,\"#f0f921\"]]}],\"contourcarpet\":[{\"type\":\"contourcarpet\",\"colorbar\":{\"outlinewidth\":0,\"ticks\":\"\"}}],\"contour\":[{\"type\":\"contour\",\"colorbar\":{\"outlinewidth\":0,\"ticks\":\"\"},\"colorscale\":[[0.0,\"#0d0887\"],[0.1111111111111111,\"#46039f\"],[0.2222222222222222,\"#7201a8\"],[0.3333333333333333,\"#9c179e\"],[0.4444444444444444,\"#bd3786\"],[0.5555555555555556,\"#d8576b\"],[0.6666666666666666,\"#ed7953\"],[0.7777777777777778,\"#fb9f3a\"],[0.8888888888888888,\"#fdca26\"],[1.0,\"#f0f921\"]]}],\"surface\":[{\"type\":\"surface\",\"colorbar\":{\"outlinewidth\":0,\"ticks\":\"\"},\"colorscale\":[[0.0,\"#0d0887\"],[0.1111111111111111,\"#46039f\"],[0.2222222222222222,\"#7201a8\"],[0.3333333333333333,\"#9c179e\"],[0.4444444444444444,\"#bd3786\"],[0.5555555555555556,\"#d8576b\"],[0.6666666666666666,\"#ed7953\"],[0.7777777777777778,\"#fb9f3a\"],[0.8888888888888888,\"#fdca26\"],[1.0,\"#f0f921\"]]}],\"mesh3d\":[{\"type\":\"mesh3d\",\"colorbar\":{\"outlinewidth\":0,\"ticks\":\"\"}}],\"scatter\":[{\"fillpattern\":{\"fillmode\":\"overlay\",\"size\":10,\"solidity\":0.2},\"type\":\"scatter\"}],\"parcoords\":[{\"type\":\"parcoords\",\"line\":{\"colorbar\":{\"outlinewidth\":0,\"ticks\":\"\"}}}],\"scatterpolargl\":[{\"type\":\"scatterpolargl\",\"marker\":{\"colorbar\":{\"outlinewidth\":0,\"ticks\":\"\"}}}],\"bar\":[{\"error_x\":{\"color\":\"#2a3f5f\"},\"error_y\":{\"color\":\"#2a3f5f\"},\"marker\":{\"line\":{\"color\":\"#E5ECF6\",\"width\":0.5},\"pattern\":{\"fillmode\":\"overlay\",\"size\":10,\"solidity\":0.2}},\"type\":\"bar\"}],\"scattergeo\":[{\"type\":\"scattergeo\",\"marker\":{\"colorbar\":{\"outlinewidth\":0,\"ticks\":\"\"}}}],\"scatterpolar\":[{\"type\":\"scatterpolar\",\"marker\":{\"colorbar\":{\"outlinewidth\":0,\"ticks\":\"\"}}}],\"histogram\":[{\"marker\":{\"pattern\":{\"fillmode\":\"overlay\",\"size\":10,\"solidity\":0.2}},\"type\":\"histogram\"}],\"scattergl\":[{\"type\":\"scattergl\",\"marker\":{\"colorbar\":{\"outlinewidth\":0,\"ticks\":\"\"}}}],\"scatter3d\":[{\"type\":\"scatter3d\",\"line\":{\"colorbar\":{\"outlinewidth\":0,\"ticks\":\"\"}},\"marker\":{\"colorbar\":{\"outlinewidth\":0,\"ticks\":\"\"}}}],\"scattermapbox\":[{\"type\":\"scattermapbox\",\"marker\":{\"colorbar\":{\"outlinewidth\":0,\"ticks\":\"\"}}}],\"scatterternary\":[{\"type\":\"scatterternary\",\"marker\":{\"colorbar\":{\"outlinewidth\":0,\"ticks\":\"\"}}}],\"scattercarpet\":[{\"type\":\"scattercarpet\",\"marker\":{\"colorbar\":{\"outlinewidth\":0,\"ticks\":\"\"}}}],\"carpet\":[{\"aaxis\":{\"endlinecolor\":\"#2a3f5f\",\"gridcolor\":\"white\",\"linecolor\":\"white\",\"minorgridcolor\":\"white\",\"startlinecolor\":\"#2a3f5f\"},\"baxis\":{\"endlinecolor\":\"#2a3f5f\",\"gridcolor\":\"white\",\"linecolor\":\"white\",\"minorgridcolor\":\"white\",\"startlinecolor\":\"#2a3f5f\"},\"type\":\"carpet\"}],\"table\":[{\"cells\":{\"fill\":{\"color\":\"#EBF0F8\"},\"line\":{\"color\":\"white\"}},\"header\":{\"fill\":{\"color\":\"#C8D4E3\"},\"line\":{\"color\":\"white\"}},\"type\":\"table\"}],\"barpolar\":[{\"marker\":{\"line\":{\"color\":\"#E5ECF6\",\"width\":0.5},\"pattern\":{\"fillmode\":\"overlay\",\"size\":10,\"solidity\":0.2}},\"type\":\"barpolar\"}],\"pie\":[{\"automargin\":true,\"type\":\"pie\"}]},\"layout\":{\"autotypenumbers\":\"strict\",\"colorway\":[\"#636efa\",\"#EF553B\",\"#00cc96\",\"#ab63fa\",\"#FFA15A\",\"#19d3f3\",\"#FF6692\",\"#B6E880\",\"#FF97FF\",\"#FECB52\"],\"font\":{\"color\":\"#2a3f5f\"},\"hovermode\":\"closest\",\"hoverlabel\":{\"align\":\"left\"},\"paper_bgcolor\":\"white\",\"plot_bgcolor\":\"#E5ECF6\",\"polar\":{\"bgcolor\":\"#E5ECF6\",\"angularaxis\":{\"gridcolor\":\"white\",\"linecolor\":\"white\",\"ticks\":\"\"},\"radialaxis\":{\"gridcolor\":\"white\",\"linecolor\":\"white\",\"ticks\":\"\"}},\"ternary\":{\"bgcolor\":\"#E5ECF6\",\"aaxis\":{\"gridcolor\":\"white\",\"linecolor\":\"white\",\"ticks\":\"\"},\"baxis\":{\"gridcolor\":\"white\",\"linecolor\":\"white\",\"ticks\":\"\"},\"caxis\":{\"gridcolor\":\"white\",\"linecolor\":\"white\",\"ticks\":\"\"}},\"coloraxis\":{\"colorbar\":{\"outlinewidth\":0,\"ticks\":\"\"}},\"colorscale\":{\"sequential\":[[0.0,\"#0d0887\"],[0.1111111111111111,\"#46039f\"],[0.2222222222222222,\"#7201a8\"],[0.3333333333333333,\"#9c179e\"],[0.4444444444444444,\"#bd3786\"],[0.5555555555555556,\"#d8576b\"],[0.6666666666666666,\"#ed7953\"],[0.7777777777777778,\"#fb9f3a\"],[0.8888888888888888,\"#fdca26\"],[1.0,\"#f0f921\"]],\"sequentialminus\":[[0.0,\"#0d0887\"],[0.1111111111111111,\"#46039f\"],[0.2222222222222222,\"#7201a8\"],[0.3333333333333333,\"#9c179e\"],[0.4444444444444444,\"#bd3786\"],[0.5555555555555556,\"#d8576b\"],[0.6666666666666666,\"#ed7953\"],[0.7777777777777778,\"#fb9f3a\"],[0.8888888888888888,\"#fdca26\"],[1.0,\"#f0f921\"]],\"diverging\":[[0,\"#8e0152\"],[0.1,\"#c51b7d\"],[0.2,\"#de77ae\"],[0.3,\"#f1b6da\"],[0.4,\"#fde0ef\"],[0.5,\"#f7f7f7\"],[0.6,\"#e6f5d0\"],[0.7,\"#b8e186\"],[0.8,\"#7fbc41\"],[0.9,\"#4d9221\"],[1,\"#276419\"]]},\"xaxis\":{\"gridcolor\":\"white\",\"linecolor\":\"white\",\"ticks\":\"\",\"title\":{\"standoff\":15},\"zerolinecolor\":\"white\",\"automargin\":true,\"zerolinewidth\":2},\"yaxis\":{\"gridcolor\":\"white\",\"linecolor\":\"white\",\"ticks\":\"\",\"title\":{\"standoff\":15},\"zerolinecolor\":\"white\",\"automargin\":true,\"zerolinewidth\":2},\"scene\":{\"xaxis\":{\"backgroundcolor\":\"#E5ECF6\",\"gridcolor\":\"white\",\"linecolor\":\"white\",\"showbackground\":true,\"ticks\":\"\",\"zerolinecolor\":\"white\",\"gridwidth\":2},\"yaxis\":{\"backgroundcolor\":\"#E5ECF6\",\"gridcolor\":\"white\",\"linecolor\":\"white\",\"showbackground\":true,\"ticks\":\"\",\"zerolinecolor\":\"white\",\"gridwidth\":2},\"zaxis\":{\"backgroundcolor\":\"#E5ECF6\",\"gridcolor\":\"white\",\"linecolor\":\"white\",\"showbackground\":true,\"ticks\":\"\",\"zerolinecolor\":\"white\",\"gridwidth\":2}},\"shapedefaults\":{\"line\":{\"color\":\"#2a3f5f\"}},\"annotationdefaults\":{\"arrowcolor\":\"#2a3f5f\",\"arrowhead\":0,\"arrowwidth\":1},\"geo\":{\"bgcolor\":\"white\",\"landcolor\":\"#E5ECF6\",\"subunitcolor\":\"white\",\"showland\":true,\"showlakes\":true,\"lakecolor\":\"white\"},\"title\":{\"x\":0.05},\"mapbox\":{\"style\":\"light\"}}},\"title\":{\"text\":\"Comparison of cylinders\"},\"xaxis\":{\"title\":{\"text\":\"cylinders\"}},\"yaxis\":{\"title\":{\"text\":\"Number\"}},\"showlegend\":false},                        {\"responsive\": true}                    ).then(function(){\n",
       "                            \n",
       "var gd = document.getElementById('127beb96-0f6b-4274-9de5-0aca9ccd9c35');\n",
       "var x = new MutationObserver(function (mutations, observer) {{\n",
       "        var display = window.getComputedStyle(gd).display;\n",
       "        if (!display || display === 'none') {{\n",
       "            console.log([gd, 'removed!']);\n",
       "            Plotly.purge(gd);\n",
       "            observer.disconnect();\n",
       "        }}\n",
       "}});\n",
       "\n",
       "// Listen for the removal of the full notebook cells\n",
       "var notebookContainer = gd.closest('#notebook-container');\n",
       "if (notebookContainer) {{\n",
       "    x.observe(notebookContainer, {childList: true});\n",
       "}}\n",
       "\n",
       "// Listen for the clearing of the current output cell\n",
       "var outputEl = gd.closest('.output');\n",
       "if (outputEl) {{\n",
       "    x.observe(outputEl, {childList: true});\n",
       "}}\n",
       "\n",
       "                        })                };                });            </script>        </div>"
      ]
     },
     "metadata": {},
     "output_type": "display_data"
    }
   ],
   "source": [
    "import plotly.colors\n",
    "import pandas as pd\n",
    "import plotly.express as px\n",
    "import plotly.io as pio\n",
    "import plotly.graph_objects as go\n",
    "\n",
    "\n",
    "pastel_colors = plotly.colors.qualitative.Pastel\n",
    "\n",
    "segment_counts = data['cylinders'].value_counts()\n",
    "\n",
    "# Create a bar chart to compare segment counts\n",
    "fig = go.Figure(data=[go.Bar(x=segment_counts.index, y=segment_counts.values,\n",
    "                            marker=dict(color=pastel_colors))])\n",
    "\n",
    "# Set the color of the Champions segment as a different color\n",
    "champions_color = 'rgb(158, 202, 225)'\n",
    "fig.update_traces(marker_color=[champions_color if segment == 'Champions' else pastel_colors[i]\n",
    "                                for i, segment in enumerate(segment_counts.index)],\n",
    "                  marker_line_color='rgb(8, 48, 107)',\n",
    "                  marker_line_width=1.5, opacity=0.6)\n",
    "\n",
    "# Update the layout\n",
    "fig.update_layout(title='Comparison of cylinders',\n",
    "                  xaxis_title='cylinders',\n",
    "                  yaxis_title='Number',\n",
    "                  showlegend=False)\n",
    "\n",
    "fig.show()"
   ]
  },
  {
   "cell_type": "code",
   "execution_count": null,
   "id": "c7fd6910-d5a0-4715-b56a-13dde2892be0",
   "metadata": {},
   "outputs": [],
   "source": [
    "import matplotlib.pyplot as plt\n",
    "\n",
    "\n",
    "# Group the data by date and calculate the total transaction amount for each day\n",
    "daily_transaction = data.groupby(data['removal_date'].dt.date)['region'].sum()\n",
    "\n",
    "# Create the line plot\n",
    "plt.plot(daily_transaction.index, daily_transaction.values)\n",
    "plt.xlabel('Date')\n",
    "plt.ylabel('Region')\n",
    "plt.title('removal date / region')\n",
    "plt.xticks(rotation=45)\n",
    "plt.show()"
   ]
  },
  {
   "cell_type": "code",
   "execution_count": null,
   "id": "dd915bba-b79c-45b3-8c74-77445a8438fc",
   "metadata": {},
   "outputs": [],
   "source": []
  }
 ],
 "metadata": {
  "kernelspec": {
   "display_name": "Python 3 (ipykernel)",
   "language": "python",
   "name": "python3"
  },
  "language_info": {
   "codemirror_mode": {
    "name": "ipython",
    "version": 3
   },
   "file_extension": ".py",
   "mimetype": "text/x-python",
   "name": "python",
   "nbconvert_exporter": "python",
   "pygments_lexer": "ipython3",
   "version": "3.10.9"
  }
 },
 "nbformat": 4,
 "nbformat_minor": 5
}
